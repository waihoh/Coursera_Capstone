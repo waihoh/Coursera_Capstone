{
 "cells": [
  {
   "cell_type": "markdown",
   "metadata": {},
   "source": [
    "# Capstone Project - Assignment 5"
   ]
  },
  {
   "cell_type": "markdown",
   "metadata": {},
   "source": [
    "## Objective"
   ]
  },
  {
   "cell_type": "markdown",
   "metadata": {},
   "source": [
    "Machine Learning Tour Group (MLTG) is creating a tour package to New York city, with a one-day free and easy stay in Manhattan. The company is identifying neighborhoods that are within walking distance to popular F&B venues, places of interest and shopping locations. Popularity of different locations is determined by the \"likes\" scores obtained from Foursquare database. Suitable accommodations can then be arranged in identified neighborhoods."
   ]
  },
  {
   "cell_type": "markdown",
   "metadata": {},
   "source": [
    "## Data required"
   ]
  },
  {
   "cell_type": "markdown",
   "metadata": {},
   "source": [
    "We will be using   \n",
    "A. Geospatial coordinates of neighborhoods are obtained from https://geo.nyu.edu/catalog/nyu_2451_34572.  \n",
    "B. Data of venues using Foursquare API. The data includes locations, categories and likes."
   ]
  },
  {
   "cell_type": "markdown",
   "metadata": {},
   "source": [
    "## Keywords"
   ]
  },
  {
   "cell_type": "markdown",
   "metadata": {},
   "source": [
    "Tour, accommodations, Manhattan, DBSCAN, Foursquare"
   ]
  },
  {
   "cell_type": "markdown",
   "metadata": {},
   "source": [
    "## Libraries"
   ]
  },
  {
   "cell_type": "code",
   "execution_count": 1,
   "metadata": {},
   "outputs": [],
   "source": [
    "import numpy as np\n",
    "import pandas as pd\n",
    "import json\n",
    "from geopy.geocoders import Nominatim # convert an address into latitude and longitude values\n",
    "from geopy import distance # compute distance in km between two pairs of latitude-longitude coordinates.\n",
    "import requests # library to handle requests\n",
    "from pandas import json_normalize\n",
    "import matplotlib.cm as cm\n",
    "import matplotlib.colors as colors\n",
    "from sklearn.cluster import DBSCAN, KMeans\n",
    "import folium # map rendering library\n",
    "import wget # using pypi wget library\n"
   ]
  },
  {
   "cell_type": "markdown",
   "metadata": {},
   "source": [
    "## Methodology"
   ]
  },
  {
   "cell_type": "markdown",
   "metadata": {},
   "source": [
    "1. Geospatial data is downloaded from https://cocl.us/new_york_dataset. The neighborhoods in Manhattan are then filtered from this data .\n",
    "2. Using Foursquare, we get geospatial data of venues within 8km of Manhattan city centre coordinates.\n",
    "3. Based on the “categories” of the venues, they are place into different groups, namely F&B, places of interest and shops. This new column in the data frame is called “tag” and the labels are FNB, POI and SHOP respectively. This helps in analysis process. Any other “categories” that do not belong to these tags are removed from the data frame.\n",
    "4. Using Foursquare, we obtain the count of `likes’ for each venue. The 25-th, 50-th and 75-th quantiles of each tag are computed. A new column “rating” is added to the data frame to assign categorical ratings of each value, with rating 4 being the highest and 1 the lowest.\n",
    "5. We perform one-hot encoding. One set of data with only ‘rating’ encoded and another set of data with both ‘tag’ and ‘rating’ encoded are then then used for clustering. The latitude and longitude coordinates are included in the encoded dataset.\n",
    "6. Clustering is done using DBSCAN package in scikit-learn library. We will also see the clustering by KMeans method. The results are shown in pivot tables.\n",
    "7. After determining suitable DBSCAN hyper-parameters, we add the label of clusters to data frame and finally present the clusters on a map. \n",
    "8. The mean distance of each neighborhoods to venues in the selected cluster is computed. The top 5 neighborhoods with the lowest mean distance are recommended for scouting of accommodations."
   ]
  },
  {
   "cell_type": "markdown",
   "metadata": {},
   "source": [
    "## Pre-processing"
   ]
  },
  {
   "cell_type": "markdown",
   "metadata": {},
   "source": [
    "Get geospatial data of neighborhoods in New York."
   ]
  },
  {
   "cell_type": "code",
   "execution_count": 2,
   "metadata": {},
   "outputs": [],
   "source": [
    "# Uncomment the line below if newyork_data.json file has not been downloaded.\n",
    "# wget.download(\"https://cocl.us/new_york_dataset\", out=\"newyork_data.json\")"
   ]
  },
  {
   "cell_type": "code",
   "execution_count": 3,
   "metadata": {},
   "outputs": [],
   "source": [
    "with open('newyork_data.json') as json_data:\n",
    "    newyork_data = json.load(json_data)"
   ]
  },
  {
   "cell_type": "code",
   "execution_count": 4,
   "metadata": {},
   "outputs": [],
   "source": [
    "neighborhoods_data = newyork_data['features']"
   ]
  },
  {
   "cell_type": "markdown",
   "metadata": {},
   "source": [
    "Tranforming the data into a pandas dataframe"
   ]
  },
  {
   "cell_type": "code",
   "execution_count": 5,
   "metadata": {},
   "outputs": [],
   "source": [
    "# define the dataframe columns\n",
    "column_names = ['Borough', 'Neighborhood', 'Latitude', 'Longitude'] \n",
    "\n",
    "# instantiate the dataframe\n",
    "neighborhoods = pd.DataFrame(columns=column_names)"
   ]
  },
  {
   "cell_type": "code",
   "execution_count": 6,
   "metadata": {},
   "outputs": [],
   "source": [
    "for data in neighborhoods_data:\n",
    "    borough = neighborhood_name = data['properties']['borough'] \n",
    "    neighborhood_name = data['properties']['name']\n",
    "        \n",
    "    neighborhood_latlon = data['geometry']['coordinates']\n",
    "    neighborhood_lat = neighborhood_latlon[1]\n",
    "    neighborhood_lon = neighborhood_latlon[0]\n",
    "    \n",
    "    neighborhoods = neighborhoods.append({'Borough': borough,\n",
    "                                          'Neighborhood': neighborhood_name,\n",
    "                                          'Latitude': neighborhood_lat,\n",
    "                                          'Longitude': neighborhood_lon}, ignore_index=True)"
   ]
  },
  {
   "cell_type": "markdown",
   "metadata": {},
   "source": [
    "In particular, we will be selecting neighborhoods in Manhattan."
   ]
  },
  {
   "cell_type": "code",
   "execution_count": 7,
   "metadata": {},
   "outputs": [
    {
     "data": {
      "text/plain": [
       "array(['Marble Hill', 'Chinatown', 'Washington Heights', 'Inwood',\n",
       "       'Hamilton Heights', 'Manhattanville', 'Central Harlem',\n",
       "       'East Harlem', 'Upper East Side', 'Yorkville', 'Lenox Hill',\n",
       "       'Roosevelt Island', 'Upper West Side', 'Lincoln Square', 'Clinton',\n",
       "       'Midtown', 'Murray Hill', 'Chelsea', 'Greenwich Village',\n",
       "       'East Village', 'Lower East Side', 'Tribeca', 'Little Italy',\n",
       "       'Soho', 'West Village', 'Manhattan Valley', 'Morningside Heights',\n",
       "       'Gramercy', 'Battery Park City', 'Financial District',\n",
       "       'Carnegie Hill', 'Noho', 'Civic Center', 'Midtown South',\n",
       "       'Sutton Place', 'Turtle Bay', 'Tudor City', 'Stuyvesant Town',\n",
       "       'Flatiron', 'Hudson Yards'], dtype=object)"
      ]
     },
     "execution_count": 7,
     "metadata": {},
     "output_type": "execute_result"
    }
   ],
   "source": [
    "manhattan_data = neighborhoods[neighborhoods['Borough'] == 'Manhattan'].reset_index(drop=True)\n",
    "manhattan_data['Neighborhood'].unique()"
   ]
  },
  {
   "cell_type": "markdown",
   "metadata": {},
   "source": [
    "Using Nominatim, we find geographical coordinates of Manhattan."
   ]
  },
  {
   "cell_type": "code",
   "execution_count": 8,
   "metadata": {
    "scrolled": true
   },
   "outputs": [
    {
     "name": "stdout",
     "output_type": "stream",
     "text": [
      "The geograpical coordinate of Manhattan are 40.7896239, -73.9598939.\n"
     ]
    }
   ],
   "source": [
    "address = 'Manhattan, NY'\n",
    "\n",
    "geolocator = Nominatim(user_agent=\"ny_explorer\")\n",
    "location = geolocator.geocode(address)\n",
    "latitude = location.latitude\n",
    "longitude = location.longitude\n",
    "print('The geograpical coordinate of Manhattan are {}, {}.'.format(latitude, longitude))"
   ]
  },
  {
   "cell_type": "markdown",
   "metadata": {},
   "source": [
    "## Foursquare API"
   ]
  },
  {
   "cell_type": "markdown",
   "metadata": {},
   "source": [
    "#### User credentials"
   ]
  },
  {
   "cell_type": "code",
   "execution_count": 9,
   "metadata": {},
   "outputs": [],
   "source": [
    "CLIENT_ID = '' # your Foursquare ID\n",
    "CLIENT_SECRET = '' # your Foursquare Secret\n",
    "VERSION = '20180604'"
   ]
  },
  {
   "cell_type": "code",
   "execution_count": 10,
   "metadata": {},
   "outputs": [],
   "source": [
    "LIMIT = 500 # number of venues\n",
    "radius = 8000 # within radius of 8km"
   ]
  },
  {
   "cell_type": "markdown",
   "metadata": {},
   "source": [
    "#### Utility functions"
   ]
  },
  {
   "cell_type": "code",
   "execution_count": 11,
   "metadata": {},
   "outputs": [],
   "source": [
    "# function that extracts the category of the venue\n",
    "def get_category_type(row):\n",
    "    try:\n",
    "        categories_list = row['categories']\n",
    "    except:\n",
    "        categories_list = row['venue.categories']\n",
    "\n",
    "    if len(categories_list) == 0:\n",
    "        return None\n",
    "    else:\n",
    "        return categories_list[0]['name']"
   ]
  },
  {
   "cell_type": "markdown",
   "metadata": {},
   "source": [
    "#### Pull data from Foursquare API"
   ]
  },
  {
   "cell_type": "markdown",
   "metadata": {},
   "source": [
    "First, obtain the venues that are within 'radius' km from the coordinates of Manhattan"
   ]
  },
  {
   "cell_type": "code",
   "execution_count": 12,
   "metadata": {},
   "outputs": [],
   "source": [
    "# create URL\n",
    "url = 'https://api.foursquare.com/v2/venues/explore?\\\n",
    "&client_id={}&client_secret={}&v={}&ll={},{}&radius={}&limit={}'.format(\n",
    "    CLIENT_ID, \n",
    "    CLIENT_SECRET, \n",
    "    VERSION, \n",
    "    latitude, \n",
    "    longitude, \n",
    "    radius, \n",
    "    LIMIT)"
   ]
  },
  {
   "cell_type": "code",
   "execution_count": 13,
   "metadata": {},
   "outputs": [],
   "source": [
    "#pull the actual data from the Foursquare API\n",
    "all_data_json = requests.get(url).json()"
   ]
  },
  {
   "cell_type": "markdown",
   "metadata": {},
   "source": [
    "Place data into dataframe"
   ]
  },
  {
   "cell_type": "code",
   "execution_count": 14,
   "metadata": {},
   "outputs": [
    {
     "data": {
      "text/html": [
       "<div>\n",
       "<style scoped>\n",
       "    .dataframe tbody tr th:only-of-type {\n",
       "        vertical-align: middle;\n",
       "    }\n",
       "\n",
       "    .dataframe tbody tr th {\n",
       "        vertical-align: top;\n",
       "    }\n",
       "\n",
       "    .dataframe thead th {\n",
       "        text-align: right;\n",
       "    }\n",
       "</style>\n",
       "<table border=\"1\" class=\"dataframe\">\n",
       "  <thead>\n",
       "    <tr style=\"text-align: right;\">\n",
       "      <th></th>\n",
       "      <th>referralId</th>\n",
       "      <th>reasons.count</th>\n",
       "      <th>reasons.items</th>\n",
       "      <th>venue.id</th>\n",
       "      <th>venue.name</th>\n",
       "      <th>venue.location.address</th>\n",
       "      <th>venue.location.crossStreet</th>\n",
       "      <th>venue.location.lat</th>\n",
       "      <th>venue.location.lng</th>\n",
       "      <th>venue.location.labeledLatLngs</th>\n",
       "      <th>...</th>\n",
       "      <th>venue.photos.groups</th>\n",
       "      <th>venue.venuePage.id</th>\n",
       "      <th>venue.delivery.id</th>\n",
       "      <th>venue.delivery.url</th>\n",
       "      <th>venue.delivery.provider.name</th>\n",
       "      <th>venue.delivery.provider.icon.prefix</th>\n",
       "      <th>venue.delivery.provider.icon.sizes</th>\n",
       "      <th>venue.delivery.provider.icon.name</th>\n",
       "      <th>venue.events.count</th>\n",
       "      <th>venue.events.summary</th>\n",
       "    </tr>\n",
       "  </thead>\n",
       "  <tbody>\n",
       "    <tr>\n",
       "      <th>0</th>\n",
       "      <td>e-0-4ba233dbf964a5206fe337e3-0</td>\n",
       "      <td>0</td>\n",
       "      <td>[{'summary': 'This spot is popular', 'type': '...</td>\n",
       "      <td>4ba233dbf964a5206fe337e3</td>\n",
       "      <td>East Meadow</td>\n",
       "      <td>Central Park</td>\n",
       "      <td>5th Ave btwn 98th &amp; 101st St</td>\n",
       "      <td>40.790160</td>\n",
       "      <td>-73.955498</td>\n",
       "      <td>[{'label': 'display', 'lat': 40.79015961797437...</td>\n",
       "      <td>...</td>\n",
       "      <td>[]</td>\n",
       "      <td>NaN</td>\n",
       "      <td>NaN</td>\n",
       "      <td>NaN</td>\n",
       "      <td>NaN</td>\n",
       "      <td>NaN</td>\n",
       "      <td>NaN</td>\n",
       "      <td>NaN</td>\n",
       "      <td>NaN</td>\n",
       "      <td>NaN</td>\n",
       "    </tr>\n",
       "    <tr>\n",
       "      <th>1</th>\n",
       "      <td>e-0-4a229fa8f964a520797d1fe3-1</td>\n",
       "      <td>0</td>\n",
       "      <td>[{'summary': 'This spot is popular', 'type': '...</td>\n",
       "      <td>4a229fa8f964a520797d1fe3</td>\n",
       "      <td>Jacqueline Kennedy Onassis Reservoir</td>\n",
       "      <td>Central Park</td>\n",
       "      <td>btwn 85th &amp; 96th St</td>\n",
       "      <td>40.784519</td>\n",
       "      <td>-73.960966</td>\n",
       "      <td>NaN</td>\n",
       "      <td>...</td>\n",
       "      <td>[]</td>\n",
       "      <td>NaN</td>\n",
       "      <td>NaN</td>\n",
       "      <td>NaN</td>\n",
       "      <td>NaN</td>\n",
       "      <td>NaN</td>\n",
       "      <td>NaN</td>\n",
       "      <td>NaN</td>\n",
       "      <td>NaN</td>\n",
       "      <td>NaN</td>\n",
       "    </tr>\n",
       "    <tr>\n",
       "      <th>2</th>\n",
       "      <td>e-0-4a746fb2f964a52025de1fe3-2</td>\n",
       "      <td>0</td>\n",
       "      <td>[{'summary': 'This spot is popular', 'type': '...</td>\n",
       "      <td>4a746fb2f964a52025de1fe3</td>\n",
       "      <td>The Jewish Museum</td>\n",
       "      <td>1109 5th Ave</td>\n",
       "      <td>at E 92nd St</td>\n",
       "      <td>40.785276</td>\n",
       "      <td>-73.957411</td>\n",
       "      <td>[{'label': 'display', 'lat': 40.7852755619908,...</td>\n",
       "      <td>...</td>\n",
       "      <td>[]</td>\n",
       "      <td>33720137</td>\n",
       "      <td>NaN</td>\n",
       "      <td>NaN</td>\n",
       "      <td>NaN</td>\n",
       "      <td>NaN</td>\n",
       "      <td>NaN</td>\n",
       "      <td>NaN</td>\n",
       "      <td>NaN</td>\n",
       "      <td>NaN</td>\n",
       "    </tr>\n",
       "    <tr>\n",
       "      <th>3</th>\n",
       "      <td>e-0-412d2800f964a520df0c1fe3-3</td>\n",
       "      <td>0</td>\n",
       "      <td>[{'summary': 'This spot is popular', 'type': '...</td>\n",
       "      <td>412d2800f964a520df0c1fe3</td>\n",
       "      <td>Central Park</td>\n",
       "      <td>59th St to 110th St</td>\n",
       "      <td>5th Ave to Central Park West</td>\n",
       "      <td>40.784083</td>\n",
       "      <td>-73.964853</td>\n",
       "      <td>[{'label': 'display', 'lat': 40.78408342593807...</td>\n",
       "      <td>...</td>\n",
       "      <td>[]</td>\n",
       "      <td>NaN</td>\n",
       "      <td>NaN</td>\n",
       "      <td>NaN</td>\n",
       "      <td>NaN</td>\n",
       "      <td>NaN</td>\n",
       "      <td>NaN</td>\n",
       "      <td>NaN</td>\n",
       "      <td>NaN</td>\n",
       "      <td>NaN</td>\n",
       "    </tr>\n",
       "    <tr>\n",
       "      <th>4</th>\n",
       "      <td>e-0-4a9ad8d2f964a520213320e3-4</td>\n",
       "      <td>0</td>\n",
       "      <td>[{'summary': 'This spot is popular', 'type': '...</td>\n",
       "      <td>4a9ad8d2f964a520213320e3</td>\n",
       "      <td>Conservatory Garden</td>\n",
       "      <td>1231 5th Ave</td>\n",
       "      <td>at 105th St</td>\n",
       "      <td>40.793531</td>\n",
       "      <td>-73.952032</td>\n",
       "      <td>[{'label': 'display', 'lat': 40.793531, 'lng':...</td>\n",
       "      <td>...</td>\n",
       "      <td>[]</td>\n",
       "      <td>NaN</td>\n",
       "      <td>NaN</td>\n",
       "      <td>NaN</td>\n",
       "      <td>NaN</td>\n",
       "      <td>NaN</td>\n",
       "      <td>NaN</td>\n",
       "      <td>NaN</td>\n",
       "      <td>NaN</td>\n",
       "      <td>NaN</td>\n",
       "    </tr>\n",
       "  </tbody>\n",
       "</table>\n",
       "<p>5 rows × 30 columns</p>\n",
       "</div>"
      ],
      "text/plain": [
       "                       referralId  reasons.count  \\\n",
       "0  e-0-4ba233dbf964a5206fe337e3-0              0   \n",
       "1  e-0-4a229fa8f964a520797d1fe3-1              0   \n",
       "2  e-0-4a746fb2f964a52025de1fe3-2              0   \n",
       "3  e-0-412d2800f964a520df0c1fe3-3              0   \n",
       "4  e-0-4a9ad8d2f964a520213320e3-4              0   \n",
       "\n",
       "                                       reasons.items  \\\n",
       "0  [{'summary': 'This spot is popular', 'type': '...   \n",
       "1  [{'summary': 'This spot is popular', 'type': '...   \n",
       "2  [{'summary': 'This spot is popular', 'type': '...   \n",
       "3  [{'summary': 'This spot is popular', 'type': '...   \n",
       "4  [{'summary': 'This spot is popular', 'type': '...   \n",
       "\n",
       "                   venue.id                            venue.name  \\\n",
       "0  4ba233dbf964a5206fe337e3                           East Meadow   \n",
       "1  4a229fa8f964a520797d1fe3  Jacqueline Kennedy Onassis Reservoir   \n",
       "2  4a746fb2f964a52025de1fe3                     The Jewish Museum   \n",
       "3  412d2800f964a520df0c1fe3                          Central Park   \n",
       "4  4a9ad8d2f964a520213320e3                   Conservatory Garden   \n",
       "\n",
       "  venue.location.address    venue.location.crossStreet  venue.location.lat  \\\n",
       "0           Central Park  5th Ave btwn 98th & 101st St           40.790160   \n",
       "1           Central Park           btwn 85th & 96th St           40.784519   \n",
       "2           1109 5th Ave                  at E 92nd St           40.785276   \n",
       "3    59th St to 110th St  5th Ave to Central Park West           40.784083   \n",
       "4           1231 5th Ave                   at 105th St           40.793531   \n",
       "\n",
       "   venue.location.lng                      venue.location.labeledLatLngs  ...  \\\n",
       "0          -73.955498  [{'label': 'display', 'lat': 40.79015961797437...  ...   \n",
       "1          -73.960966                                                NaN  ...   \n",
       "2          -73.957411  [{'label': 'display', 'lat': 40.7852755619908,...  ...   \n",
       "3          -73.964853  [{'label': 'display', 'lat': 40.78408342593807...  ...   \n",
       "4          -73.952032  [{'label': 'display', 'lat': 40.793531, 'lng':...  ...   \n",
       "\n",
       "   venue.photos.groups venue.venuePage.id venue.delivery.id  \\\n",
       "0                   []                NaN               NaN   \n",
       "1                   []                NaN               NaN   \n",
       "2                   []           33720137               NaN   \n",
       "3                   []                NaN               NaN   \n",
       "4                   []                NaN               NaN   \n",
       "\n",
       "  venue.delivery.url venue.delivery.provider.name  \\\n",
       "0                NaN                          NaN   \n",
       "1                NaN                          NaN   \n",
       "2                NaN                          NaN   \n",
       "3                NaN                          NaN   \n",
       "4                NaN                          NaN   \n",
       "\n",
       "  venue.delivery.provider.icon.prefix venue.delivery.provider.icon.sizes  \\\n",
       "0                                 NaN                                NaN   \n",
       "1                                 NaN                                NaN   \n",
       "2                                 NaN                                NaN   \n",
       "3                                 NaN                                NaN   \n",
       "4                                 NaN                                NaN   \n",
       "\n",
       "  venue.delivery.provider.icon.name venue.events.count  venue.events.summary  \n",
       "0                               NaN                NaN                   NaN  \n",
       "1                               NaN                NaN                   NaN  \n",
       "2                               NaN                NaN                   NaN  \n",
       "3                               NaN                NaN                   NaN  \n",
       "4                               NaN                NaN                   NaN  \n",
       "\n",
       "[5 rows x 30 columns]"
      ]
     },
     "execution_count": 14,
     "metadata": {},
     "output_type": "execute_result"
    }
   ],
   "source": [
    "all_venues = all_data_json['response']['groups'][0]['items']\n",
    "all_venues = json_normalize(all_venues)\n",
    "all_venues.head()"
   ]
  },
  {
   "cell_type": "markdown",
   "metadata": {},
   "source": [
    "For ease of analysis, select relevant columns."
   ]
  },
  {
   "cell_type": "code",
   "execution_count": 15,
   "metadata": {},
   "outputs": [],
   "source": [
    "selectedCols = ['venue.name', 'venue.id', 'venue.categories', 'venue.location.lat', 'venue.location.lng']\n",
    "all_venues =all_venues.loc[:, selectedCols]\n",
    "all_venues['venue.categories'] = all_venues.apply(get_category_type, axis=1)"
   ]
  },
  {
   "cell_type": "code",
   "execution_count": 16,
   "metadata": {},
   "outputs": [
    {
     "data": {
      "text/html": [
       "<div>\n",
       "<style scoped>\n",
       "    .dataframe tbody tr th:only-of-type {\n",
       "        vertical-align: middle;\n",
       "    }\n",
       "\n",
       "    .dataframe tbody tr th {\n",
       "        vertical-align: top;\n",
       "    }\n",
       "\n",
       "    .dataframe thead th {\n",
       "        text-align: right;\n",
       "    }\n",
       "</style>\n",
       "<table border=\"1\" class=\"dataframe\">\n",
       "  <thead>\n",
       "    <tr style=\"text-align: right;\">\n",
       "      <th></th>\n",
       "      <th>venue.name</th>\n",
       "      <th>venue.id</th>\n",
       "      <th>venue.categories</th>\n",
       "      <th>venue.location.lat</th>\n",
       "      <th>venue.location.lng</th>\n",
       "    </tr>\n",
       "  </thead>\n",
       "  <tbody>\n",
       "    <tr>\n",
       "      <th>0</th>\n",
       "      <td>East Meadow</td>\n",
       "      <td>4ba233dbf964a5206fe337e3</td>\n",
       "      <td>Field</td>\n",
       "      <td>40.790160</td>\n",
       "      <td>-73.955498</td>\n",
       "    </tr>\n",
       "    <tr>\n",
       "      <th>1</th>\n",
       "      <td>Jacqueline Kennedy Onassis Reservoir</td>\n",
       "      <td>4a229fa8f964a520797d1fe3</td>\n",
       "      <td>Reservoir</td>\n",
       "      <td>40.784519</td>\n",
       "      <td>-73.960966</td>\n",
       "    </tr>\n",
       "    <tr>\n",
       "      <th>2</th>\n",
       "      <td>The Jewish Museum</td>\n",
       "      <td>4a746fb2f964a52025de1fe3</td>\n",
       "      <td>Museum</td>\n",
       "      <td>40.785276</td>\n",
       "      <td>-73.957411</td>\n",
       "    </tr>\n",
       "    <tr>\n",
       "      <th>3</th>\n",
       "      <td>Central Park</td>\n",
       "      <td>412d2800f964a520df0c1fe3</td>\n",
       "      <td>Park</td>\n",
       "      <td>40.784083</td>\n",
       "      <td>-73.964853</td>\n",
       "    </tr>\n",
       "    <tr>\n",
       "      <th>4</th>\n",
       "      <td>Conservatory Garden</td>\n",
       "      <td>4a9ad8d2f964a520213320e3</td>\n",
       "      <td>Garden</td>\n",
       "      <td>40.793531</td>\n",
       "      <td>-73.952032</td>\n",
       "    </tr>\n",
       "  </tbody>\n",
       "</table>\n",
       "</div>"
      ],
      "text/plain": [
       "                             venue.name                  venue.id  \\\n",
       "0                           East Meadow  4ba233dbf964a5206fe337e3   \n",
       "1  Jacqueline Kennedy Onassis Reservoir  4a229fa8f964a520797d1fe3   \n",
       "2                     The Jewish Museum  4a746fb2f964a52025de1fe3   \n",
       "3                          Central Park  412d2800f964a520df0c1fe3   \n",
       "4                   Conservatory Garden  4a9ad8d2f964a520213320e3   \n",
       "\n",
       "  venue.categories  venue.location.lat  venue.location.lng  \n",
       "0            Field           40.790160          -73.955498  \n",
       "1        Reservoir           40.784519          -73.960966  \n",
       "2           Museum           40.785276          -73.957411  \n",
       "3             Park           40.784083          -73.964853  \n",
       "4           Garden           40.793531          -73.952032  "
      ]
     },
     "execution_count": 16,
     "metadata": {},
     "output_type": "execute_result"
    }
   ],
   "source": [
    "all_venues.head()"
   ]
  },
  {
   "cell_type": "markdown",
   "metadata": {},
   "source": [
    "We notice that the column headers are all starting with prefix \"venue.\". We shall rename the column headers."
   ]
  },
  {
   "cell_type": "code",
   "execution_count": 17,
   "metadata": {},
   "outputs": [],
   "source": [
    "# We split the string and select only the last word.\n",
    "new_col_headers = [col_header.split(\".\")[-1] for col_header in all_venues.columns]\n",
    "all_venues.columns = new_col_headers"
   ]
  },
  {
   "cell_type": "markdown",
   "metadata": {},
   "source": [
    "#### Grouping by categories"
   ]
  },
  {
   "cell_type": "code",
   "execution_count": 18,
   "metadata": {},
   "outputs": [
    {
     "data": {
      "text/plain": [
       "array(['Field', 'Reservoir', 'Museum', 'Park', 'Garden', 'Fountain',\n",
       "       'Flower Shop', 'Exhibit', 'Art Museum', 'Gym', 'Plaza',\n",
       "       'Yoga Studio', 'Bakery', 'Track', 'Cycle Studio', 'Beer Store',\n",
       "       'Boxing Gym', 'Scenic Lookout', 'Waterfront', 'Pizza Place',\n",
       "       'Thai Restaurant', 'Theater', 'Event Space',\n",
       "       'Performing Arts Venue', 'Concert Hall', 'Opera House',\n",
       "       'Italian Restaurant', 'Gym / Fitness Center', 'Jazz Club',\n",
       "       'Seafood Restaurant', 'Hotel', 'Library', 'Community Center',\n",
       "       'Salon / Barbershop', 'Dance Studio', 'Gift Shop',\n",
       "       'American Restaurant', 'Church', 'Grocery Store', 'Food Truck',\n",
       "       'Resort', 'Gourmet Shop', 'Taco Place', 'Bar', 'Ice Cream Shop',\n",
       "       'Indie Theater', 'Sandwich Place', 'Bookstore'], dtype=object)"
      ]
     },
     "execution_count": 18,
     "metadata": {},
     "output_type": "execute_result"
    }
   ],
   "source": [
    "all_venues['categories'].unique()"
   ]
  },
  {
   "cell_type": "markdown",
   "metadata": {},
   "source": [
    "Clean up the dataframe by removing categories that are not needed. Then, create lists for grouping different categories."
   ]
  },
  {
   "cell_type": "code",
   "execution_count": 19,
   "metadata": {},
   "outputs": [],
   "source": [
    "remove_categories = ['Field', 'Gym', 'Yoga Studio', 'Track', 'Cycle Studio', 'Boxing Gym', 'Event Space', \n",
    "                     'Gym / Fitness Center', 'Hotel', 'Community Center', 'Salon / Barbershop', 'Dance Studio']\n",
    "\n",
    "FNB_categories = ['Bakery', 'Beer Store', 'Pizza Place', 'Thai Restaurant', 'Italian Restaurant', \n",
    "                  'Seafood Restaurant', 'American Restaurant', 'Food Truck', 'Taco Place', 'Bar', \n",
    "                  'Ice Cream Shop', 'Sandwich Place']\n",
    "\n",
    "places_of_interest_categories = ['Reservoir','Museum', 'Park', 'Garden', 'Fountain',\n",
    "                                 'Exhibit', 'Art Museum', 'Plaza', 'Scenic Lookout', 'Waterfront', \n",
    "                                 'Theater', 'Performing Arts Venue', 'Concert Hall', 'Opera House',\n",
    "                                 'Jazz Club', 'Library', 'Church', 'Resort', 'Indie Theater']\n",
    "\n",
    "shopping_categories  = ['Flower Shop', 'Gift Shop', 'Grocery Store', 'Gourmet Shop', 'Bookstore']"
   ]
  },
  {
   "cell_type": "markdown",
   "metadata": {},
   "source": [
    "### Check lists"
   ]
  },
  {
   "cell_type": "markdown",
   "metadata": {},
   "source": [
    "If there are mismatches, update the respective lists in cell above."
   ]
  },
  {
   "cell_type": "code",
   "execution_count": 20,
   "metadata": {},
   "outputs": [
    {
     "name": "stdout",
     "output_type": "stream",
     "text": [
      "Missing categories: \n",
      "[]\n"
     ]
    }
   ],
   "source": [
    "all_split_categories = remove_categories + FNB_categories + places_of_interest_categories + shopping_categories\n",
    "all_categories_list = all_venues['categories'].unique().tolist()\n",
    "\n",
    "missing_categories = []\n",
    "for category in all_categories_list:\n",
    "    if category not in all_split_categories:\n",
    "        missing_categories.append(category)\n",
    "\n",
    "print('Missing categories: ')\n",
    "print(missing_categories)"
   ]
  },
  {
   "cell_type": "code",
   "execution_count": 21,
   "metadata": {},
   "outputs": [
    {
     "name": "stdout",
     "output_type": "stream",
     "text": [
      "Redundant categories: \n",
      "[]\n"
     ]
    }
   ],
   "source": [
    "# Check for redundant elements.\n",
    "redundant_categories = []\n",
    "for category in all_split_categories:\n",
    "    if category not in all_categories_list:\n",
    "        redundant_categories.append(category)\n",
    "\n",
    "print('Redundant categories: ')\n",
    "print(redundant_categories)"
   ]
  },
  {
   "cell_type": "markdown",
   "metadata": {},
   "source": [
    "NOTE: We will be using update_all_venues for the rest of the code and append new columns/info to it."
   ]
  },
  {
   "cell_type": "code",
   "execution_count": 22,
   "metadata": {},
   "outputs": [],
   "source": [
    "# create a new dataframe\n",
    "updated_all_venues = all_venues.copy()\n",
    "\n",
    "# remove some categories\n",
    "updated_all_venues = all_venues[~all_venues['categories'].isin(remove_categories)]"
   ]
  },
  {
   "cell_type": "markdown",
   "metadata": {},
   "source": [
    "Create a new column called new_categories and fill it with NaN"
   ]
  },
  {
   "cell_type": "code",
   "execution_count": 23,
   "metadata": {
    "scrolled": true
   },
   "outputs": [],
   "source": [
    "updated_all_venues = updated_all_venues.assign(tag=[np.nan] * updated_all_venues.shape[0])"
   ]
  },
  {
   "cell_type": "markdown",
   "metadata": {},
   "source": [
    "Tag each row with FNB, POI or SHOP categories under the 'tag' column.  \n",
    "\n",
    "These groupings are created to distinguish different activities for tourists. Moreover, venues of different groups may receive different number of likes. For example, there are usually more likes given to places of interest. When we compute the quantiles later, the values are more reflective for the respective groups."
   ]
  },
  {
   "cell_type": "code",
   "execution_count": 24,
   "metadata": {},
   "outputs": [],
   "source": [
    "indexes = updated_all_venues['categories'].isin(FNB_categories)\n",
    "updated_all_venues.loc[indexes, 'tag'] = \"FNB\""
   ]
  },
  {
   "cell_type": "code",
   "execution_count": 25,
   "metadata": {},
   "outputs": [],
   "source": [
    "indexes = updated_all_venues['categories'].isin(places_of_interest_categories)\n",
    "updated_all_venues.loc[indexes, 'tag'] = \"POI\""
   ]
  },
  {
   "cell_type": "code",
   "execution_count": 26,
   "metadata": {},
   "outputs": [],
   "source": [
    "indexes = updated_all_venues['categories'].isin(shopping_categories)\n",
    "updated_all_venues.loc[indexes, 'tag'] = \"SHOP\""
   ]
  },
  {
   "cell_type": "code",
   "execution_count": 27,
   "metadata": {
    "scrolled": false
   },
   "outputs": [
    {
     "data": {
      "text/html": [
       "<div>\n",
       "<style scoped>\n",
       "    .dataframe tbody tr th:only-of-type {\n",
       "        vertical-align: middle;\n",
       "    }\n",
       "\n",
       "    .dataframe tbody tr th {\n",
       "        vertical-align: top;\n",
       "    }\n",
       "\n",
       "    .dataframe thead th {\n",
       "        text-align: right;\n",
       "    }\n",
       "</style>\n",
       "<table border=\"1\" class=\"dataframe\">\n",
       "  <thead>\n",
       "    <tr style=\"text-align: right;\">\n",
       "      <th></th>\n",
       "      <th>name</th>\n",
       "      <th>id</th>\n",
       "      <th>categories</th>\n",
       "      <th>lat</th>\n",
       "      <th>lng</th>\n",
       "      <th>tag</th>\n",
       "    </tr>\n",
       "  </thead>\n",
       "  <tbody>\n",
       "    <tr>\n",
       "      <th>1</th>\n",
       "      <td>Jacqueline Kennedy Onassis Reservoir</td>\n",
       "      <td>4a229fa8f964a520797d1fe3</td>\n",
       "      <td>Reservoir</td>\n",
       "      <td>40.784519</td>\n",
       "      <td>-73.960966</td>\n",
       "      <td>POI</td>\n",
       "    </tr>\n",
       "    <tr>\n",
       "      <th>2</th>\n",
       "      <td>The Jewish Museum</td>\n",
       "      <td>4a746fb2f964a52025de1fe3</td>\n",
       "      <td>Museum</td>\n",
       "      <td>40.785276</td>\n",
       "      <td>-73.957411</td>\n",
       "      <td>POI</td>\n",
       "    </tr>\n",
       "    <tr>\n",
       "      <th>3</th>\n",
       "      <td>Central Park</td>\n",
       "      <td>412d2800f964a520df0c1fe3</td>\n",
       "      <td>Park</td>\n",
       "      <td>40.784083</td>\n",
       "      <td>-73.964853</td>\n",
       "      <td>POI</td>\n",
       "    </tr>\n",
       "    <tr>\n",
       "      <th>4</th>\n",
       "      <td>Conservatory Garden</td>\n",
       "      <td>4a9ad8d2f964a520213320e3</td>\n",
       "      <td>Garden</td>\n",
       "      <td>40.793531</td>\n",
       "      <td>-73.952032</td>\n",
       "      <td>POI</td>\n",
       "    </tr>\n",
       "    <tr>\n",
       "      <th>5</th>\n",
       "      <td>Conservatory Garden Center Fountain</td>\n",
       "      <td>4d2b4592d86aa0907fa322c0</td>\n",
       "      <td>Fountain</td>\n",
       "      <td>40.793896</td>\n",
       "      <td>-73.952816</td>\n",
       "      <td>POI</td>\n",
       "    </tr>\n",
       "  </tbody>\n",
       "</table>\n",
       "</div>"
      ],
      "text/plain": [
       "                                   name                        id categories  \\\n",
       "1  Jacqueline Kennedy Onassis Reservoir  4a229fa8f964a520797d1fe3  Reservoir   \n",
       "2                     The Jewish Museum  4a746fb2f964a52025de1fe3     Museum   \n",
       "3                          Central Park  412d2800f964a520df0c1fe3       Park   \n",
       "4                   Conservatory Garden  4a9ad8d2f964a520213320e3     Garden   \n",
       "5   Conservatory Garden Center Fountain  4d2b4592d86aa0907fa322c0   Fountain   \n",
       "\n",
       "         lat        lng  tag  \n",
       "1  40.784519 -73.960966  POI  \n",
       "2  40.785276 -73.957411  POI  \n",
       "3  40.784083 -73.964853  POI  \n",
       "4  40.793531 -73.952032  POI  \n",
       "5  40.793896 -73.952816  POI  "
      ]
     },
     "execution_count": 27,
     "metadata": {},
     "output_type": "execute_result"
    }
   ],
   "source": [
    "updated_all_venues.head()"
   ]
  },
  {
   "cell_type": "markdown",
   "metadata": {},
   "source": [
    "#### Get \"likes\" values"
   ]
  },
  {
   "cell_type": "markdown",
   "metadata": {},
   "source": [
    "Using a list of IDs, we can retrieve likes from Foursquare for each ID."
   ]
  },
  {
   "cell_type": "code",
   "execution_count": 28,
   "metadata": {},
   "outputs": [],
   "source": [
    "IDs = updated_all_venues['id'].tolist()"
   ]
  },
  {
   "cell_type": "code",
   "execution_count": 29,
   "metadata": {},
   "outputs": [
    {
     "name": "stdout",
     "output_type": "stream",
     "text": [
      "[717, 791, 21527, 280, 69, 180, 32, 295, 14196, 63, 502, 134, 127, 64, 809, 181, 370, 31, 317, 722, 96, 211, 784, 2398, 89, 585, 616, 853, 1369, 129, 806, 293, 98, 1705, 255, 728, 229, 403, 111, 207, 1007, 132, 1255, 257, 560, 250, 325, 13306, 473, 427, 193, 3246, 1097, 3288, 504, 274, 4198, 6864, 21, 205, 1327, 136, 154, 1173, 551, 226, 89, 115, 310, 77, 224, 406, 417, 10580, 260, 419, 258, 952, 746]\n"
     ]
    }
   ],
   "source": [
    "likes_list = []\n",
    "\n",
    "for ID in IDs:\n",
    "    url = 'https://api.foursquare.com/v2/venues/{}/likes?client_id={}&client_secret={}&v={}'.format(\n",
    "        ID, CLIENT_ID, CLIENT_SECRET, VERSION)\n",
    "    like_data = requests.get(url).json()\n",
    "    likes = like_data['response']['likes']['count']\n",
    "    likes_list.append(likes)\n",
    "    \n",
    "print(likes_list)"
   ]
  },
  {
   "cell_type": "code",
   "execution_count": 30,
   "metadata": {},
   "outputs": [],
   "source": [
    "updated_all_venues['total_likes'] = likes_list"
   ]
  },
  {
   "cell_type": "code",
   "execution_count": 31,
   "metadata": {},
   "outputs": [
    {
     "data": {
      "text/html": [
       "<div>\n",
       "<style scoped>\n",
       "    .dataframe tbody tr th:only-of-type {\n",
       "        vertical-align: middle;\n",
       "    }\n",
       "\n",
       "    .dataframe tbody tr th {\n",
       "        vertical-align: top;\n",
       "    }\n",
       "\n",
       "    .dataframe thead th {\n",
       "        text-align: right;\n",
       "    }\n",
       "</style>\n",
       "<table border=\"1\" class=\"dataframe\">\n",
       "  <thead>\n",
       "    <tr style=\"text-align: right;\">\n",
       "      <th></th>\n",
       "      <th>name</th>\n",
       "      <th>id</th>\n",
       "      <th>categories</th>\n",
       "      <th>lat</th>\n",
       "      <th>lng</th>\n",
       "      <th>tag</th>\n",
       "      <th>total_likes</th>\n",
       "    </tr>\n",
       "  </thead>\n",
       "  <tbody>\n",
       "    <tr>\n",
       "      <th>1</th>\n",
       "      <td>Jacqueline Kennedy Onassis Reservoir</td>\n",
       "      <td>4a229fa8f964a520797d1fe3</td>\n",
       "      <td>Reservoir</td>\n",
       "      <td>40.784519</td>\n",
       "      <td>-73.960966</td>\n",
       "      <td>POI</td>\n",
       "      <td>717</td>\n",
       "    </tr>\n",
       "    <tr>\n",
       "      <th>2</th>\n",
       "      <td>The Jewish Museum</td>\n",
       "      <td>4a746fb2f964a52025de1fe3</td>\n",
       "      <td>Museum</td>\n",
       "      <td>40.785276</td>\n",
       "      <td>-73.957411</td>\n",
       "      <td>POI</td>\n",
       "      <td>791</td>\n",
       "    </tr>\n",
       "    <tr>\n",
       "      <th>3</th>\n",
       "      <td>Central Park</td>\n",
       "      <td>412d2800f964a520df0c1fe3</td>\n",
       "      <td>Park</td>\n",
       "      <td>40.784083</td>\n",
       "      <td>-73.964853</td>\n",
       "      <td>POI</td>\n",
       "      <td>21527</td>\n",
       "    </tr>\n",
       "    <tr>\n",
       "      <th>4</th>\n",
       "      <td>Conservatory Garden</td>\n",
       "      <td>4a9ad8d2f964a520213320e3</td>\n",
       "      <td>Garden</td>\n",
       "      <td>40.793531</td>\n",
       "      <td>-73.952032</td>\n",
       "      <td>POI</td>\n",
       "      <td>280</td>\n",
       "    </tr>\n",
       "    <tr>\n",
       "      <th>5</th>\n",
       "      <td>Conservatory Garden Center Fountain</td>\n",
       "      <td>4d2b4592d86aa0907fa322c0</td>\n",
       "      <td>Fountain</td>\n",
       "      <td>40.793896</td>\n",
       "      <td>-73.952816</td>\n",
       "      <td>POI</td>\n",
       "      <td>69</td>\n",
       "    </tr>\n",
       "  </tbody>\n",
       "</table>\n",
       "</div>"
      ],
      "text/plain": [
       "                                   name                        id categories  \\\n",
       "1  Jacqueline Kennedy Onassis Reservoir  4a229fa8f964a520797d1fe3  Reservoir   \n",
       "2                     The Jewish Museum  4a746fb2f964a52025de1fe3     Museum   \n",
       "3                          Central Park  412d2800f964a520df0c1fe3       Park   \n",
       "4                   Conservatory Garden  4a9ad8d2f964a520213320e3     Garden   \n",
       "5   Conservatory Garden Center Fountain  4d2b4592d86aa0907fa322c0   Fountain   \n",
       "\n",
       "         lat        lng  tag  total_likes  \n",
       "1  40.784519 -73.960966  POI          717  \n",
       "2  40.785276 -73.957411  POI          791  \n",
       "3  40.784083 -73.964853  POI        21527  \n",
       "4  40.793531 -73.952032  POI          280  \n",
       "5  40.793896 -73.952816  POI           69  "
      ]
     },
     "execution_count": 31,
     "metadata": {},
     "output_type": "execute_result"
    }
   ],
   "source": [
    "updated_all_venues.head()"
   ]
  },
  {
   "cell_type": "markdown",
   "metadata": {},
   "source": [
    "#### Finding quantile values"
   ]
  },
  {
   "cell_type": "markdown",
   "metadata": {},
   "source": [
    "For each tag, determine what are the 25-th, 50-th and 75-th quantile marks. The values are then used for partitioning total_likes into 4 groups."
   ]
  },
  {
   "cell_type": "code",
   "execution_count": 32,
   "metadata": {},
   "outputs": [],
   "source": [
    "def find_percentiles(df):\n",
    "    # use numpy percentile function to \n",
    "    p25 = np.percentile(df['total_likes'], 25)\n",
    "    p50 = np.percentile(df['total_likes'], 50)\n",
    "    p75 = np.percentile(df['total_likes'], 75)\n",
    "    print(p25, p50, p75)\n",
    "    return p25, p50, p75"
   ]
  },
  {
   "cell_type": "code",
   "execution_count": 33,
   "metadata": {},
   "outputs": [
    {
     "name": "stdout",
     "output_type": "stream",
     "text": [
      "158.0 313.5 452.0\n"
     ]
    }
   ],
   "source": [
    "p25_FNB, p50_FNB, p75_FNB = find_percentiles(updated_all_venues[updated_all_venues['tag'] == \"FNB\"])"
   ]
  },
  {
   "cell_type": "code",
   "execution_count": 34,
   "metadata": {},
   "outputs": [
    {
     "name": "stdout",
     "output_type": "stream",
     "text": [
      "205.5 439.5 1036.0\n"
     ]
    }
   ],
   "source": [
    "p25_POI, p50_POI, p75_POI = find_percentiles(updated_all_venues[updated_all_venues['tag'] == \"POI\"])"
   ]
  },
  {
   "cell_type": "code",
   "execution_count": 35,
   "metadata": {},
   "outputs": [
    {
     "name": "stdout",
     "output_type": "stream",
     "text": [
      "136.0 274.0 427.0\n"
     ]
    }
   ],
   "source": [
    "p25_SHOP, p50_SHOP, p75_SHOP = find_percentiles(updated_all_venues[updated_all_venues['tag'] == \"SHOP\"])"
   ]
  },
  {
   "cell_type": "markdown",
   "metadata": {},
   "source": [
    "Based on the percentiles found, we add a new category 'rating' with 4 being the highest rating and 1 being the lowest rating for each tag. We use pandas apply() method to update this new column. Before that, we need to define a function and pass it to apply() method."
   ]
  },
  {
   "cell_type": "code",
   "execution_count": 36,
   "metadata": {},
   "outputs": [],
   "source": [
    "# NOTE: Values are stored as string for one-hot encoding in subsequent steps.\n",
    "# The column will be converted to integers when finding the pivot table.\n",
    "def partition_tag(df):\n",
    "    if df['tag'] == \"FNB\":\n",
    "        if df['total_likes'] > p75_FNB:\n",
    "            return \"4\"\n",
    "        elif df['total_likes'] > p50_FNB:\n",
    "            return \"3\"\n",
    "        elif df['total_likes'] > p25_FNB:\n",
    "            return \"2\"\n",
    "        else:\n",
    "            return \"1\"\n",
    "    elif df['tag'] == \"POI\":\n",
    "        if df['total_likes'] > p75_POI:\n",
    "            return \"4\"\n",
    "        elif df['total_likes'] > p50_POI:\n",
    "            return \"3\"\n",
    "        elif df['total_likes'] > p25_POI:\n",
    "            return \"2\"\n",
    "        else:\n",
    "            return \"1\"\n",
    "    else:\n",
    "        if df['total_likes'] > p75_SHOP:\n",
    "            return \"4\"\n",
    "        elif df['total_likes'] > p50_SHOP:\n",
    "            return \"3\"\n",
    "        elif df['total_likes'] > p25_SHOP:\n",
    "            return \"2\"\n",
    "        else:\n",
    "            return \"1\"\n",
    "        "
   ]
  },
  {
   "cell_type": "code",
   "execution_count": 37,
   "metadata": {},
   "outputs": [],
   "source": [
    "updated_all_venues['rating']=updated_all_venues.apply(partition_tag, axis=1)"
   ]
  },
  {
   "cell_type": "code",
   "execution_count": 38,
   "metadata": {},
   "outputs": [
    {
     "data": {
      "text/html": [
       "<div>\n",
       "<style scoped>\n",
       "    .dataframe tbody tr th:only-of-type {\n",
       "        vertical-align: middle;\n",
       "    }\n",
       "\n",
       "    .dataframe tbody tr th {\n",
       "        vertical-align: top;\n",
       "    }\n",
       "\n",
       "    .dataframe thead th {\n",
       "        text-align: right;\n",
       "    }\n",
       "</style>\n",
       "<table border=\"1\" class=\"dataframe\">\n",
       "  <thead>\n",
       "    <tr style=\"text-align: right;\">\n",
       "      <th></th>\n",
       "      <th>name</th>\n",
       "      <th>id</th>\n",
       "      <th>categories</th>\n",
       "      <th>lat</th>\n",
       "      <th>lng</th>\n",
       "      <th>tag</th>\n",
       "      <th>total_likes</th>\n",
       "      <th>rating</th>\n",
       "    </tr>\n",
       "  </thead>\n",
       "  <tbody>\n",
       "    <tr>\n",
       "      <th>1</th>\n",
       "      <td>Jacqueline Kennedy Onassis Reservoir</td>\n",
       "      <td>4a229fa8f964a520797d1fe3</td>\n",
       "      <td>Reservoir</td>\n",
       "      <td>40.784519</td>\n",
       "      <td>-73.960966</td>\n",
       "      <td>POI</td>\n",
       "      <td>717</td>\n",
       "      <td>3</td>\n",
       "    </tr>\n",
       "    <tr>\n",
       "      <th>2</th>\n",
       "      <td>The Jewish Museum</td>\n",
       "      <td>4a746fb2f964a52025de1fe3</td>\n",
       "      <td>Museum</td>\n",
       "      <td>40.785276</td>\n",
       "      <td>-73.957411</td>\n",
       "      <td>POI</td>\n",
       "      <td>791</td>\n",
       "      <td>3</td>\n",
       "    </tr>\n",
       "    <tr>\n",
       "      <th>3</th>\n",
       "      <td>Central Park</td>\n",
       "      <td>412d2800f964a520df0c1fe3</td>\n",
       "      <td>Park</td>\n",
       "      <td>40.784083</td>\n",
       "      <td>-73.964853</td>\n",
       "      <td>POI</td>\n",
       "      <td>21527</td>\n",
       "      <td>4</td>\n",
       "    </tr>\n",
       "    <tr>\n",
       "      <th>4</th>\n",
       "      <td>Conservatory Garden</td>\n",
       "      <td>4a9ad8d2f964a520213320e3</td>\n",
       "      <td>Garden</td>\n",
       "      <td>40.793531</td>\n",
       "      <td>-73.952032</td>\n",
       "      <td>POI</td>\n",
       "      <td>280</td>\n",
       "      <td>2</td>\n",
       "    </tr>\n",
       "    <tr>\n",
       "      <th>5</th>\n",
       "      <td>Conservatory Garden Center Fountain</td>\n",
       "      <td>4d2b4592d86aa0907fa322c0</td>\n",
       "      <td>Fountain</td>\n",
       "      <td>40.793896</td>\n",
       "      <td>-73.952816</td>\n",
       "      <td>POI</td>\n",
       "      <td>69</td>\n",
       "      <td>1</td>\n",
       "    </tr>\n",
       "  </tbody>\n",
       "</table>\n",
       "</div>"
      ],
      "text/plain": [
       "                                   name                        id categories  \\\n",
       "1  Jacqueline Kennedy Onassis Reservoir  4a229fa8f964a520797d1fe3  Reservoir   \n",
       "2                     The Jewish Museum  4a746fb2f964a52025de1fe3     Museum   \n",
       "3                          Central Park  412d2800f964a520df0c1fe3       Park   \n",
       "4                   Conservatory Garden  4a9ad8d2f964a520213320e3     Garden   \n",
       "5   Conservatory Garden Center Fountain  4d2b4592d86aa0907fa322c0   Fountain   \n",
       "\n",
       "         lat        lng  tag  total_likes rating  \n",
       "1  40.784519 -73.960966  POI          717      3  \n",
       "2  40.785276 -73.957411  POI          791      3  \n",
       "3  40.784083 -73.964853  POI        21527      4  \n",
       "4  40.793531 -73.952032  POI          280      2  \n",
       "5  40.793896 -73.952816  POI           69      1  "
      ]
     },
     "execution_count": 38,
     "metadata": {},
     "output_type": "execute_result"
    }
   ],
   "source": [
    "updated_all_venues.head()"
   ]
  },
  {
   "cell_type": "markdown",
   "metadata": {},
   "source": [
    "#### One-hot encoding"
   ]
  },
  {
   "cell_type": "markdown",
   "metadata": {},
   "source": [
    "We create a new dataframe with one-hot encoding for tag and rating before performing DBSCAN clustering."
   ]
  },
  {
   "cell_type": "markdown",
   "metadata": {},
   "source": [
    "#### Not tagged"
   ]
  },
  {
   "cell_type": "code",
   "execution_count": 39,
   "metadata": {
    "scrolled": true
   },
   "outputs": [
    {
     "data": {
      "text/html": [
       "<div>\n",
       "<style scoped>\n",
       "    .dataframe tbody tr th:only-of-type {\n",
       "        vertical-align: middle;\n",
       "    }\n",
       "\n",
       "    .dataframe tbody tr th {\n",
       "        vertical-align: top;\n",
       "    }\n",
       "\n",
       "    .dataframe thead th {\n",
       "        text-align: right;\n",
       "    }\n",
       "</style>\n",
       "<table border=\"1\" class=\"dataframe\">\n",
       "  <thead>\n",
       "    <tr style=\"text-align: right;\">\n",
       "      <th></th>\n",
       "      <th>Name</th>\n",
       "      <th>1</th>\n",
       "      <th>2</th>\n",
       "      <th>3</th>\n",
       "      <th>4</th>\n",
       "      <th>lat</th>\n",
       "      <th>lng</th>\n",
       "    </tr>\n",
       "  </thead>\n",
       "  <tbody>\n",
       "    <tr>\n",
       "      <th>1</th>\n",
       "      <td>Jacqueline Kennedy Onassis Reservoir</td>\n",
       "      <td>0</td>\n",
       "      <td>0</td>\n",
       "      <td>1</td>\n",
       "      <td>0</td>\n",
       "      <td>40.784519</td>\n",
       "      <td>-73.960966</td>\n",
       "    </tr>\n",
       "    <tr>\n",
       "      <th>2</th>\n",
       "      <td>The Jewish Museum</td>\n",
       "      <td>0</td>\n",
       "      <td>0</td>\n",
       "      <td>1</td>\n",
       "      <td>0</td>\n",
       "      <td>40.785276</td>\n",
       "      <td>-73.957411</td>\n",
       "    </tr>\n",
       "    <tr>\n",
       "      <th>3</th>\n",
       "      <td>Central Park</td>\n",
       "      <td>0</td>\n",
       "      <td>0</td>\n",
       "      <td>0</td>\n",
       "      <td>1</td>\n",
       "      <td>40.784083</td>\n",
       "      <td>-73.964853</td>\n",
       "    </tr>\n",
       "    <tr>\n",
       "      <th>4</th>\n",
       "      <td>Conservatory Garden</td>\n",
       "      <td>0</td>\n",
       "      <td>1</td>\n",
       "      <td>0</td>\n",
       "      <td>0</td>\n",
       "      <td>40.793531</td>\n",
       "      <td>-73.952032</td>\n",
       "    </tr>\n",
       "    <tr>\n",
       "      <th>5</th>\n",
       "      <td>Conservatory Garden Center Fountain</td>\n",
       "      <td>1</td>\n",
       "      <td>0</td>\n",
       "      <td>0</td>\n",
       "      <td>0</td>\n",
       "      <td>40.793896</td>\n",
       "      <td>-73.952816</td>\n",
       "    </tr>\n",
       "  </tbody>\n",
       "</table>\n",
       "</div>"
      ],
      "text/plain": [
       "                                   Name  1  2  3  4        lat        lng\n",
       "1  Jacqueline Kennedy Onassis Reservoir  0  0  1  0  40.784519 -73.960966\n",
       "2                     The Jewish Museum  0  0  1  0  40.785276 -73.957411\n",
       "3                          Central Park  0  0  0  1  40.784083 -73.964853\n",
       "4                   Conservatory Garden  0  1  0  0  40.793531 -73.952032\n",
       "5   Conservatory Garden Center Fountain  1  0  0  0  40.793896 -73.952816"
      ]
     },
     "execution_count": 39,
     "metadata": {},
     "output_type": "execute_result"
    }
   ],
   "source": [
    "# one hot encoding\n",
    "onehot_all_venues_nottagged = pd.get_dummies(updated_all_venues[['rating']], prefix=\"\", prefix_sep=\"\")\n",
    "\n",
    "# add neighborhood column back to dataframe\n",
    "onehot_all_venues_nottagged['lat'] = updated_all_venues['lat']\n",
    "onehot_all_venues_nottagged['lng'] = updated_all_venues['lng']\n",
    "\n",
    "# the name column doesn't play a role actually. For viewing purpose only.\n",
    "onehot_all_venues_nottagged['Name'] = updated_all_venues['name']\n",
    "\n",
    "# move neighborhood column to the first column\n",
    "fixed_columns = [onehot_all_venues_nottagged.columns[-1]] + list(onehot_all_venues_nottagged.columns[:-1])\n",
    "onehot_all_venues_nottagged = onehot_all_venues_nottagged[fixed_columns]\n",
    "\n",
    "onehot_all_venues_nottagged.head()"
   ]
  },
  {
   "cell_type": "markdown",
   "metadata": {},
   "source": [
    "#### tagged"
   ]
  },
  {
   "cell_type": "code",
   "execution_count": 40,
   "metadata": {},
   "outputs": [
    {
     "data": {
      "text/html": [
       "<div>\n",
       "<style scoped>\n",
       "    .dataframe tbody tr th:only-of-type {\n",
       "        vertical-align: middle;\n",
       "    }\n",
       "\n",
       "    .dataframe tbody tr th {\n",
       "        vertical-align: top;\n",
       "    }\n",
       "\n",
       "    .dataframe thead th {\n",
       "        text-align: right;\n",
       "    }\n",
       "</style>\n",
       "<table border=\"1\" class=\"dataframe\">\n",
       "  <thead>\n",
       "    <tr style=\"text-align: right;\">\n",
       "      <th></th>\n",
       "      <th>Name</th>\n",
       "      <th>FNB</th>\n",
       "      <th>POI</th>\n",
       "      <th>SHOP</th>\n",
       "      <th>1</th>\n",
       "      <th>2</th>\n",
       "      <th>3</th>\n",
       "      <th>4</th>\n",
       "      <th>lat</th>\n",
       "      <th>lng</th>\n",
       "    </tr>\n",
       "  </thead>\n",
       "  <tbody>\n",
       "    <tr>\n",
       "      <th>1</th>\n",
       "      <td>Jacqueline Kennedy Onassis Reservoir</td>\n",
       "      <td>0</td>\n",
       "      <td>1</td>\n",
       "      <td>0</td>\n",
       "      <td>0</td>\n",
       "      <td>0</td>\n",
       "      <td>1</td>\n",
       "      <td>0</td>\n",
       "      <td>40.784519</td>\n",
       "      <td>-73.960966</td>\n",
       "    </tr>\n",
       "    <tr>\n",
       "      <th>2</th>\n",
       "      <td>The Jewish Museum</td>\n",
       "      <td>0</td>\n",
       "      <td>1</td>\n",
       "      <td>0</td>\n",
       "      <td>0</td>\n",
       "      <td>0</td>\n",
       "      <td>1</td>\n",
       "      <td>0</td>\n",
       "      <td>40.785276</td>\n",
       "      <td>-73.957411</td>\n",
       "    </tr>\n",
       "    <tr>\n",
       "      <th>3</th>\n",
       "      <td>Central Park</td>\n",
       "      <td>0</td>\n",
       "      <td>1</td>\n",
       "      <td>0</td>\n",
       "      <td>0</td>\n",
       "      <td>0</td>\n",
       "      <td>0</td>\n",
       "      <td>1</td>\n",
       "      <td>40.784083</td>\n",
       "      <td>-73.964853</td>\n",
       "    </tr>\n",
       "    <tr>\n",
       "      <th>4</th>\n",
       "      <td>Conservatory Garden</td>\n",
       "      <td>0</td>\n",
       "      <td>1</td>\n",
       "      <td>0</td>\n",
       "      <td>0</td>\n",
       "      <td>1</td>\n",
       "      <td>0</td>\n",
       "      <td>0</td>\n",
       "      <td>40.793531</td>\n",
       "      <td>-73.952032</td>\n",
       "    </tr>\n",
       "    <tr>\n",
       "      <th>5</th>\n",
       "      <td>Conservatory Garden Center Fountain</td>\n",
       "      <td>0</td>\n",
       "      <td>1</td>\n",
       "      <td>0</td>\n",
       "      <td>1</td>\n",
       "      <td>0</td>\n",
       "      <td>0</td>\n",
       "      <td>0</td>\n",
       "      <td>40.793896</td>\n",
       "      <td>-73.952816</td>\n",
       "    </tr>\n",
       "  </tbody>\n",
       "</table>\n",
       "</div>"
      ],
      "text/plain": [
       "                                   Name  FNB  POI  SHOP  1  2  3  4  \\\n",
       "1  Jacqueline Kennedy Onassis Reservoir    0    1     0  0  0  1  0   \n",
       "2                     The Jewish Museum    0    1     0  0  0  1  0   \n",
       "3                          Central Park    0    1     0  0  0  0  1   \n",
       "4                   Conservatory Garden    0    1     0  0  1  0  0   \n",
       "5   Conservatory Garden Center Fountain    0    1     0  1  0  0  0   \n",
       "\n",
       "         lat        lng  \n",
       "1  40.784519 -73.960966  \n",
       "2  40.785276 -73.957411  \n",
       "3  40.784083 -73.964853  \n",
       "4  40.793531 -73.952032  \n",
       "5  40.793896 -73.952816  "
      ]
     },
     "execution_count": 40,
     "metadata": {},
     "output_type": "execute_result"
    }
   ],
   "source": [
    "# one hot encoding\n",
    "onehot_all_venues_tagged = pd.get_dummies(updated_all_venues[['tag', 'rating']], prefix=\"\", prefix_sep=\"\")\n",
    "\n",
    "# add neighborhood column back to dataframe\n",
    "onehot_all_venues_tagged['lat'] = updated_all_venues['lat']\n",
    "onehot_all_venues_tagged['lng'] = updated_all_venues['lng']\n",
    "\n",
    "# the name column doesn't play a role actually. For viewing purpose only.\n",
    "onehot_all_venues_tagged['Name'] = updated_all_venues['name']\n",
    "\n",
    "# move neighborhood column to the first column\n",
    "fixed_columns = [onehot_all_venues_tagged.columns[-1]] + list(onehot_all_venues_tagged.columns[:-1])\n",
    "onehot_all_venues_tagged = onehot_all_venues_tagged[fixed_columns]\n",
    "\n",
    "onehot_all_venues_tagged.head()"
   ]
  },
  {
   "cell_type": "markdown",
   "metadata": {},
   "source": [
    "## DBSCAN"
   ]
  },
  {
   "cell_type": "markdown",
   "metadata": {},
   "source": [
    "NOTE (From Course 8): DBSCAN stands for Density-Based Spatial Clustering of Applications with Noise. This technique is one of the most common clustering algorithms which works based on density of object. The whole idea is that if a particular point belongs to a cluster, it should be near to lots of other points in that cluster."
   ]
  },
  {
   "cell_type": "markdown",
   "metadata": {},
   "source": [
    "#### Not tagged"
   ]
  },
  {
   "cell_type": "code",
   "execution_count": 51,
   "metadata": {},
   "outputs": [
    {
     "data": {
      "text/plain": [
       "array([0, 0, 1, 2, 3, 3, 3, 2, 1, 3, 0, 3, 3, 3, 1, 2, 0, 3, 0, 0, 3, 2,\n",
       "       0, 1, 3, 0, 1, 0, 1, 3, 0, 2, 3, 1, 2, 0, 2, 0, 3, 2, 1, 3, 1, 2,\n",
       "       0, 2, 2, 1, 0, 0, 2, 1, 1, 1, 0, 2, 1, 1, 3, 3, 1, 3, 3, 1, 1, 2,\n",
       "       3, 3, 2, 3, 2, 2, 0, 1, 2, 0, 2, 1, 0])"
      ]
     },
     "execution_count": 51,
     "metadata": {},
     "output_type": "execute_result"
    }
   ],
   "source": [
    "epsilon = 0.3  # try the value used in the course\n",
    "minimumSamples = 5 # intuitively the number of similar & hopefully 'close' locations for tourists to choose.\n",
    "\n",
    "cluster_df_nottagged = onehot_all_venues_nottagged.drop('Name', axis=1)\n",
    "\n",
    "db_nottagged = DBSCAN(eps=epsilon, min_samples=minimumSamples).fit(cluster_df_nottagged)\n",
    "DBSCAN_labels_nottagged = db_nottagged.labels_\n",
    "DBSCAN_labels_nottagged"
   ]
  },
  {
   "cell_type": "code",
   "execution_count": 52,
   "metadata": {},
   "outputs": [
    {
     "name": "stdout",
     "output_type": "stream",
     "text": [
      "Number of clusters:  4\n"
     ]
    }
   ],
   "source": [
    "DBSCAN_clusters_nottagged = len(np.unique(DBSCAN_labels_nottagged))\n",
    "print('Number of clusters: ', DBSCAN_clusters_nottagged)"
   ]
  },
  {
   "cell_type": "markdown",
   "metadata": {},
   "source": [
    "Pivot Table"
   ]
  },
  {
   "cell_type": "code",
   "execution_count": 53,
   "metadata": {
    "scrolled": false
   },
   "outputs": [
    {
     "data": {
      "text/html": [
       "<div>\n",
       "<style scoped>\n",
       "    .dataframe tbody tr th:only-of-type {\n",
       "        vertical-align: middle;\n",
       "    }\n",
       "\n",
       "    .dataframe tbody tr th {\n",
       "        vertical-align: top;\n",
       "    }\n",
       "\n",
       "    .dataframe thead tr th {\n",
       "        text-align: left;\n",
       "    }\n",
       "\n",
       "    .dataframe thead tr:last-of-type th {\n",
       "        text-align: right;\n",
       "    }\n",
       "</style>\n",
       "<table border=\"1\" class=\"dataframe\">\n",
       "  <thead>\n",
       "    <tr>\n",
       "      <th>rating</th>\n",
       "      <th colspan=\"3\" halign=\"left\">1</th>\n",
       "      <th colspan=\"3\" halign=\"left\">2</th>\n",
       "      <th colspan=\"3\" halign=\"left\">3</th>\n",
       "      <th colspan=\"3\" halign=\"left\">4</th>\n",
       "    </tr>\n",
       "    <tr>\n",
       "      <th>tag</th>\n",
       "      <th>FNB</th>\n",
       "      <th>POI</th>\n",
       "      <th>SHOP</th>\n",
       "      <th>FNB</th>\n",
       "      <th>POI</th>\n",
       "      <th>SHOP</th>\n",
       "      <th>FNB</th>\n",
       "      <th>POI</th>\n",
       "      <th>SHOP</th>\n",
       "      <th>FNB</th>\n",
       "      <th>POI</th>\n",
       "      <th>SHOP</th>\n",
       "    </tr>\n",
       "    <tr>\n",
       "      <th>DBSCAN</th>\n",
       "      <th></th>\n",
       "      <th></th>\n",
       "      <th></th>\n",
       "      <th></th>\n",
       "      <th></th>\n",
       "      <th></th>\n",
       "      <th></th>\n",
       "      <th></th>\n",
       "      <th></th>\n",
       "      <th></th>\n",
       "      <th></th>\n",
       "      <th></th>\n",
       "    </tr>\n",
       "  </thead>\n",
       "  <tbody>\n",
       "    <tr>\n",
       "      <th>0</th>\n",
       "      <td>0</td>\n",
       "      <td>0</td>\n",
       "      <td>0</td>\n",
       "      <td>0</td>\n",
       "      <td>0</td>\n",
       "      <td>0</td>\n",
       "      <td>5</td>\n",
       "      <td>13</td>\n",
       "      <td>1</td>\n",
       "      <td>0</td>\n",
       "      <td>0</td>\n",
       "      <td>0</td>\n",
       "    </tr>\n",
       "    <tr>\n",
       "      <th>1</th>\n",
       "      <td>0</td>\n",
       "      <td>0</td>\n",
       "      <td>0</td>\n",
       "      <td>0</td>\n",
       "      <td>0</td>\n",
       "      <td>0</td>\n",
       "      <td>0</td>\n",
       "      <td>0</td>\n",
       "      <td>0</td>\n",
       "      <td>5</td>\n",
       "      <td>14</td>\n",
       "      <td>1</td>\n",
       "    </tr>\n",
       "    <tr>\n",
       "      <th>2</th>\n",
       "      <td>0</td>\n",
       "      <td>0</td>\n",
       "      <td>0</td>\n",
       "      <td>5</td>\n",
       "      <td>13</td>\n",
       "      <td>1</td>\n",
       "      <td>0</td>\n",
       "      <td>0</td>\n",
       "      <td>0</td>\n",
       "      <td>0</td>\n",
       "      <td>0</td>\n",
       "      <td>0</td>\n",
       "    </tr>\n",
       "    <tr>\n",
       "      <th>3</th>\n",
       "      <td>5</td>\n",
       "      <td>14</td>\n",
       "      <td>2</td>\n",
       "      <td>0</td>\n",
       "      <td>0</td>\n",
       "      <td>0</td>\n",
       "      <td>0</td>\n",
       "      <td>0</td>\n",
       "      <td>0</td>\n",
       "      <td>0</td>\n",
       "      <td>0</td>\n",
       "      <td>0</td>\n",
       "    </tr>\n",
       "  </tbody>\n",
       "</table>\n",
       "</div>"
      ],
      "text/plain": [
       "rating   1            2            3            4         \n",
       "tag    FNB POI SHOP FNB POI SHOP FNB POI SHOP FNB POI SHOP\n",
       "DBSCAN                                                    \n",
       "0        0   0    0   0   0    0   5  13    1   0   0    0\n",
       "1        0   0    0   0   0    0   0   0    0   5  14    1\n",
       "2        0   0    0   5  13    1   0   0    0   0   0    0\n",
       "3        5  14    2   0   0    0   0   0    0   0   0    0"
      ]
     },
     "execution_count": 53,
     "metadata": {},
     "output_type": "execute_result"
    }
   ],
   "source": [
    "venues_cluster_nottagged = updated_all_venues.copy()\n",
    "venues_cluster_nottagged['DBSCAN'] = DBSCAN_labels_nottagged\n",
    "venues_cluster_nottagged['rating'] = venues_cluster_nottagged['rating'].astype('int')\n",
    "\n",
    "table_nottagged = pd.pivot_table(venues_cluster_nottagged, values='categories', index=['DBSCAN'], \n",
    "                                 columns=['rating', 'tag'], aggfunc=len, fill_value=0)\n",
    "table_nottagged"
   ]
  },
  {
   "cell_type": "markdown",
   "metadata": {},
   "source": [
    "#### tagged"
   ]
  },
  {
   "cell_type": "code",
   "execution_count": 69,
   "metadata": {},
   "outputs": [
    {
     "data": {
      "text/plain": [
       "array([ 0,  0,  1,  2,  3,  3, -1,  2,  1,  3,  0,  3,  3,  4,  5,  6,  7,\n",
       "        3,  7,  0,  3,  2,  0,  5,  4,  0,  5,  0,  1,  3,  0,  2,  3,  1,\n",
       "        2,  0,  2,  7,  3,  2,  5,  3,  1,  6,  0,  2,  2,  1,  0, -1,  6,\n",
       "        1,  1,  1,  0, -1,  1,  1,  4,  3,  1, -1,  3,  1,  5,  2,  4,  3,\n",
       "        6,  4,  2,  2,  7,  1,  6,  7,  2, -1,  0])"
      ]
     },
     "execution_count": 69,
     "metadata": {},
     "output_type": "execute_result"
    }
   ],
   "source": [
    "epsilon = 0.3  # try the value used in the course\n",
    "minimumSamples = 5 # intuitively the number of similar & hopefully 'close' locations for tourists to choose.\n",
    "\n",
    "cluster_df_tagged = onehot_all_venues_tagged.drop('Name', axis=1)\n",
    "\n",
    "db_tagged = DBSCAN(eps=epsilon, min_samples=minimumSamples).fit(cluster_df_tagged)\n",
    "DBSCAN_labels_tagged = db_tagged.labels_\n",
    "DBSCAN_labels_tagged"
   ]
  },
  {
   "cell_type": "code",
   "execution_count": 70,
   "metadata": {},
   "outputs": [
    {
     "name": "stdout",
     "output_type": "stream",
     "text": [
      "Number of clusters:  9\n"
     ]
    }
   ],
   "source": [
    "DBSCAN_clusters_tagged = len(np.unique(DBSCAN_labels_tagged))\n",
    "print('Number of clusters: ', DBSCAN_clusters_tagged)"
   ]
  },
  {
   "cell_type": "code",
   "execution_count": 71,
   "metadata": {},
   "outputs": [
    {
     "data": {
      "text/html": [
       "<div>\n",
       "<style scoped>\n",
       "    .dataframe tbody tr th:only-of-type {\n",
       "        vertical-align: middle;\n",
       "    }\n",
       "\n",
       "    .dataframe tbody tr th {\n",
       "        vertical-align: top;\n",
       "    }\n",
       "\n",
       "    .dataframe thead tr th {\n",
       "        text-align: left;\n",
       "    }\n",
       "\n",
       "    .dataframe thead tr:last-of-type th {\n",
       "        text-align: right;\n",
       "    }\n",
       "</style>\n",
       "<table border=\"1\" class=\"dataframe\">\n",
       "  <thead>\n",
       "    <tr>\n",
       "      <th>rating</th>\n",
       "      <th colspan=\"3\" halign=\"left\">1</th>\n",
       "      <th colspan=\"3\" halign=\"left\">2</th>\n",
       "      <th colspan=\"3\" halign=\"left\">3</th>\n",
       "      <th colspan=\"3\" halign=\"left\">4</th>\n",
       "    </tr>\n",
       "    <tr>\n",
       "      <th>tag</th>\n",
       "      <th>FNB</th>\n",
       "      <th>POI</th>\n",
       "      <th>SHOP</th>\n",
       "      <th>FNB</th>\n",
       "      <th>POI</th>\n",
       "      <th>SHOP</th>\n",
       "      <th>FNB</th>\n",
       "      <th>POI</th>\n",
       "      <th>SHOP</th>\n",
       "      <th>FNB</th>\n",
       "      <th>POI</th>\n",
       "      <th>SHOP</th>\n",
       "    </tr>\n",
       "    <tr>\n",
       "      <th>DBSCAN</th>\n",
       "      <th></th>\n",
       "      <th></th>\n",
       "      <th></th>\n",
       "      <th></th>\n",
       "      <th></th>\n",
       "      <th></th>\n",
       "      <th></th>\n",
       "      <th></th>\n",
       "      <th></th>\n",
       "      <th></th>\n",
       "      <th></th>\n",
       "      <th></th>\n",
       "    </tr>\n",
       "  </thead>\n",
       "  <tbody>\n",
       "    <tr>\n",
       "      <th>-1</th>\n",
       "      <td>0</td>\n",
       "      <td>0</td>\n",
       "      <td>2</td>\n",
       "      <td>0</td>\n",
       "      <td>0</td>\n",
       "      <td>1</td>\n",
       "      <td>0</td>\n",
       "      <td>0</td>\n",
       "      <td>1</td>\n",
       "      <td>0</td>\n",
       "      <td>0</td>\n",
       "      <td>1</td>\n",
       "    </tr>\n",
       "    <tr>\n",
       "      <th>0</th>\n",
       "      <td>0</td>\n",
       "      <td>0</td>\n",
       "      <td>0</td>\n",
       "      <td>0</td>\n",
       "      <td>0</td>\n",
       "      <td>0</td>\n",
       "      <td>0</td>\n",
       "      <td>13</td>\n",
       "      <td>0</td>\n",
       "      <td>0</td>\n",
       "      <td>0</td>\n",
       "      <td>0</td>\n",
       "    </tr>\n",
       "    <tr>\n",
       "      <th>1</th>\n",
       "      <td>0</td>\n",
       "      <td>0</td>\n",
       "      <td>0</td>\n",
       "      <td>0</td>\n",
       "      <td>0</td>\n",
       "      <td>0</td>\n",
       "      <td>0</td>\n",
       "      <td>0</td>\n",
       "      <td>0</td>\n",
       "      <td>0</td>\n",
       "      <td>14</td>\n",
       "      <td>0</td>\n",
       "    </tr>\n",
       "    <tr>\n",
       "      <th>2</th>\n",
       "      <td>0</td>\n",
       "      <td>0</td>\n",
       "      <td>0</td>\n",
       "      <td>0</td>\n",
       "      <td>13</td>\n",
       "      <td>0</td>\n",
       "      <td>0</td>\n",
       "      <td>0</td>\n",
       "      <td>0</td>\n",
       "      <td>0</td>\n",
       "      <td>0</td>\n",
       "      <td>0</td>\n",
       "    </tr>\n",
       "    <tr>\n",
       "      <th>3</th>\n",
       "      <td>0</td>\n",
       "      <td>14</td>\n",
       "      <td>0</td>\n",
       "      <td>0</td>\n",
       "      <td>0</td>\n",
       "      <td>0</td>\n",
       "      <td>0</td>\n",
       "      <td>0</td>\n",
       "      <td>0</td>\n",
       "      <td>0</td>\n",
       "      <td>0</td>\n",
       "      <td>0</td>\n",
       "    </tr>\n",
       "    <tr>\n",
       "      <th>4</th>\n",
       "      <td>5</td>\n",
       "      <td>0</td>\n",
       "      <td>0</td>\n",
       "      <td>0</td>\n",
       "      <td>0</td>\n",
       "      <td>0</td>\n",
       "      <td>0</td>\n",
       "      <td>0</td>\n",
       "      <td>0</td>\n",
       "      <td>0</td>\n",
       "      <td>0</td>\n",
       "      <td>0</td>\n",
       "    </tr>\n",
       "    <tr>\n",
       "      <th>5</th>\n",
       "      <td>0</td>\n",
       "      <td>0</td>\n",
       "      <td>0</td>\n",
       "      <td>0</td>\n",
       "      <td>0</td>\n",
       "      <td>0</td>\n",
       "      <td>0</td>\n",
       "      <td>0</td>\n",
       "      <td>0</td>\n",
       "      <td>5</td>\n",
       "      <td>0</td>\n",
       "      <td>0</td>\n",
       "    </tr>\n",
       "    <tr>\n",
       "      <th>6</th>\n",
       "      <td>0</td>\n",
       "      <td>0</td>\n",
       "      <td>0</td>\n",
       "      <td>5</td>\n",
       "      <td>0</td>\n",
       "      <td>0</td>\n",
       "      <td>0</td>\n",
       "      <td>0</td>\n",
       "      <td>0</td>\n",
       "      <td>0</td>\n",
       "      <td>0</td>\n",
       "      <td>0</td>\n",
       "    </tr>\n",
       "    <tr>\n",
       "      <th>7</th>\n",
       "      <td>0</td>\n",
       "      <td>0</td>\n",
       "      <td>0</td>\n",
       "      <td>0</td>\n",
       "      <td>0</td>\n",
       "      <td>0</td>\n",
       "      <td>5</td>\n",
       "      <td>0</td>\n",
       "      <td>0</td>\n",
       "      <td>0</td>\n",
       "      <td>0</td>\n",
       "      <td>0</td>\n",
       "    </tr>\n",
       "  </tbody>\n",
       "</table>\n",
       "</div>"
      ],
      "text/plain": [
       "rating   1            2            3            4         \n",
       "tag    FNB POI SHOP FNB POI SHOP FNB POI SHOP FNB POI SHOP\n",
       "DBSCAN                                                    \n",
       "-1       0   0    2   0   0    1   0   0    1   0   0    1\n",
       " 0       0   0    0   0   0    0   0  13    0   0   0    0\n",
       " 1       0   0    0   0   0    0   0   0    0   0  14    0\n",
       " 2       0   0    0   0  13    0   0   0    0   0   0    0\n",
       " 3       0  14    0   0   0    0   0   0    0   0   0    0\n",
       " 4       5   0    0   0   0    0   0   0    0   0   0    0\n",
       " 5       0   0    0   0   0    0   0   0    0   5   0    0\n",
       " 6       0   0    0   5   0    0   0   0    0   0   0    0\n",
       " 7       0   0    0   0   0    0   5   0    0   0   0    0"
      ]
     },
     "execution_count": 71,
     "metadata": {},
     "output_type": "execute_result"
    }
   ],
   "source": [
    "venues_cluster_tagged = updated_all_venues.copy()\n",
    "venues_cluster_tagged['DBSCAN'] = DBSCAN_labels_tagged\n",
    "venues_cluster_tagged['rating'] = venues_cluster_tagged['rating'].astype('int')\n",
    "\n",
    "table_tagged = pd.pivot_table(venues_cluster_tagged, values='categories', index=['DBSCAN'], \n",
    "                              columns=['rating', 'tag'], aggfunc=len, fill_value=0)\n",
    "table_tagged"
   ]
  },
  {
   "cell_type": "markdown",
   "metadata": {},
   "source": [
    "REMARK: This clustering with minSamples of 5 splits almost each tag & rating into a separate cluster. Fewer clusters are formed when minSamples is increased to 10 the cluster with rating 4 consists of only places of interest. FNB and SHOP are grouped as outliers."
   ]
  },
  {
   "cell_type": "markdown",
   "metadata": {},
   "source": [
    "## KMeans"
   ]
  },
  {
   "cell_type": "code",
   "execution_count": 75,
   "metadata": {},
   "outputs": [],
   "source": [
    "cluster_kmeans = onehot_all_venues_tagged.drop('Name', axis=1)\n",
    "\n",
    "k_clusters = 4\n",
    "kmeans = KMeans(n_clusters=k_clusters, random_state=0).fit(cluster_kmeans)"
   ]
  },
  {
   "cell_type": "code",
   "execution_count": 77,
   "metadata": {},
   "outputs": [
    {
     "data": {
      "text/html": [
       "<div>\n",
       "<style scoped>\n",
       "    .dataframe tbody tr th:only-of-type {\n",
       "        vertical-align: middle;\n",
       "    }\n",
       "\n",
       "    .dataframe tbody tr th {\n",
       "        vertical-align: top;\n",
       "    }\n",
       "\n",
       "    .dataframe thead tr th {\n",
       "        text-align: left;\n",
       "    }\n",
       "\n",
       "    .dataframe thead tr:last-of-type th {\n",
       "        text-align: right;\n",
       "    }\n",
       "</style>\n",
       "<table border=\"1\" class=\"dataframe\">\n",
       "  <thead>\n",
       "    <tr>\n",
       "      <th>rating</th>\n",
       "      <th colspan=\"3\" halign=\"left\">1</th>\n",
       "      <th colspan=\"3\" halign=\"left\">2</th>\n",
       "      <th colspan=\"3\" halign=\"left\">3</th>\n",
       "      <th colspan=\"3\" halign=\"left\">4</th>\n",
       "    </tr>\n",
       "    <tr>\n",
       "      <th>tag</th>\n",
       "      <th>FNB</th>\n",
       "      <th>POI</th>\n",
       "      <th>SHOP</th>\n",
       "      <th>FNB</th>\n",
       "      <th>POI</th>\n",
       "      <th>SHOP</th>\n",
       "      <th>FNB</th>\n",
       "      <th>POI</th>\n",
       "      <th>SHOP</th>\n",
       "      <th>FNB</th>\n",
       "      <th>POI</th>\n",
       "      <th>SHOP</th>\n",
       "    </tr>\n",
       "    <tr>\n",
       "      <th>KMEANS_labels</th>\n",
       "      <th></th>\n",
       "      <th></th>\n",
       "      <th></th>\n",
       "      <th></th>\n",
       "      <th></th>\n",
       "      <th></th>\n",
       "      <th></th>\n",
       "      <th></th>\n",
       "      <th></th>\n",
       "      <th></th>\n",
       "      <th></th>\n",
       "      <th></th>\n",
       "    </tr>\n",
       "  </thead>\n",
       "  <tbody>\n",
       "    <tr>\n",
       "      <th>0</th>\n",
       "      <td>5</td>\n",
       "      <td>0</td>\n",
       "      <td>0</td>\n",
       "      <td>5</td>\n",
       "      <td>0</td>\n",
       "      <td>0</td>\n",
       "      <td>5</td>\n",
       "      <td>0</td>\n",
       "      <td>0</td>\n",
       "      <td>5</td>\n",
       "      <td>0</td>\n",
       "      <td>0</td>\n",
       "    </tr>\n",
       "    <tr>\n",
       "      <th>1</th>\n",
       "      <td>0</td>\n",
       "      <td>14</td>\n",
       "      <td>2</td>\n",
       "      <td>0</td>\n",
       "      <td>0</td>\n",
       "      <td>0</td>\n",
       "      <td>0</td>\n",
       "      <td>0</td>\n",
       "      <td>0</td>\n",
       "      <td>0</td>\n",
       "      <td>0</td>\n",
       "      <td>0</td>\n",
       "    </tr>\n",
       "    <tr>\n",
       "      <th>2</th>\n",
       "      <td>0</td>\n",
       "      <td>0</td>\n",
       "      <td>0</td>\n",
       "      <td>0</td>\n",
       "      <td>13</td>\n",
       "      <td>1</td>\n",
       "      <td>0</td>\n",
       "      <td>0</td>\n",
       "      <td>0</td>\n",
       "      <td>0</td>\n",
       "      <td>0</td>\n",
       "      <td>0</td>\n",
       "    </tr>\n",
       "    <tr>\n",
       "      <th>3</th>\n",
       "      <td>0</td>\n",
       "      <td>0</td>\n",
       "      <td>0</td>\n",
       "      <td>0</td>\n",
       "      <td>0</td>\n",
       "      <td>0</td>\n",
       "      <td>0</td>\n",
       "      <td>13</td>\n",
       "      <td>1</td>\n",
       "      <td>0</td>\n",
       "      <td>14</td>\n",
       "      <td>1</td>\n",
       "    </tr>\n",
       "  </tbody>\n",
       "</table>\n",
       "</div>"
      ],
      "text/plain": [
       "rating          1            2            3            4         \n",
       "tag           FNB POI SHOP FNB POI SHOP FNB POI SHOP FNB POI SHOP\n",
       "KMEANS_labels                                                    \n",
       "0               5   0    0   5   0    0   5   0    0   5   0    0\n",
       "1               0  14    2   0   0    0   0   0    0   0   0    0\n",
       "2               0   0    0   0  13    1   0   0    0   0   0    0\n",
       "3               0   0    0   0   0    0   0  13    1   0  14    1"
      ]
     },
     "execution_count": 77,
     "metadata": {},
     "output_type": "execute_result"
    }
   ],
   "source": [
    "venues_kmeans = updated_all_venues.copy()\n",
    "venues_kmeans['KMEANS_labels'] = kmeans.labels_\n",
    "venues_kmeans['rating'] = venues_kmeans['rating'].astype('int')\n",
    "\n",
    "table_kmeans = pd.pivot_table(venues_kmeans, values='categories', index=['KMEANS_labels'], \n",
    "                              columns=['rating', 'tag'], aggfunc=len, fill_value=0)\n",
    "table_kmeans"
   ]
  },
  {
   "cell_type": "markdown",
   "metadata": {},
   "source": [
    "REMARK: For k = 4, which corresponds to a number found by DBSCAN method earlier. It is interesting to observe that cluster 0 is formed by FNB while the other clusters are made up of POI and SHOP."
   ]
  },
  {
   "cell_type": "markdown",
   "metadata": {},
   "source": [
    "### Update dataframe"
   ]
  },
  {
   "cell_type": "markdown",
   "metadata": {},
   "source": [
    "REMARK: Cluster 1 from DBSCAN_clusters_nottagged seems promising and with almost all the high rating venues together. Thus, we use the labels from DBSCAN_labels_nottagged to update our main dataframe."
   ]
  },
  {
   "cell_type": "code",
   "execution_count": 78,
   "metadata": {},
   "outputs": [
    {
     "data": {
      "text/html": [
       "<div>\n",
       "<style scoped>\n",
       "    .dataframe tbody tr th:only-of-type {\n",
       "        vertical-align: middle;\n",
       "    }\n",
       "\n",
       "    .dataframe tbody tr th {\n",
       "        vertical-align: top;\n",
       "    }\n",
       "\n",
       "    .dataframe thead tr th {\n",
       "        text-align: left;\n",
       "    }\n",
       "\n",
       "    .dataframe thead tr:last-of-type th {\n",
       "        text-align: right;\n",
       "    }\n",
       "</style>\n",
       "<table border=\"1\" class=\"dataframe\">\n",
       "  <thead>\n",
       "    <tr>\n",
       "      <th>rating</th>\n",
       "      <th colspan=\"3\" halign=\"left\">1</th>\n",
       "      <th colspan=\"3\" halign=\"left\">2</th>\n",
       "      <th colspan=\"3\" halign=\"left\">3</th>\n",
       "      <th colspan=\"3\" halign=\"left\">4</th>\n",
       "    </tr>\n",
       "    <tr>\n",
       "      <th>tag</th>\n",
       "      <th>FNB</th>\n",
       "      <th>POI</th>\n",
       "      <th>SHOP</th>\n",
       "      <th>FNB</th>\n",
       "      <th>POI</th>\n",
       "      <th>SHOP</th>\n",
       "      <th>FNB</th>\n",
       "      <th>POI</th>\n",
       "      <th>SHOP</th>\n",
       "      <th>FNB</th>\n",
       "      <th>POI</th>\n",
       "      <th>SHOP</th>\n",
       "    </tr>\n",
       "    <tr>\n",
       "      <th>DBSCAN</th>\n",
       "      <th></th>\n",
       "      <th></th>\n",
       "      <th></th>\n",
       "      <th></th>\n",
       "      <th></th>\n",
       "      <th></th>\n",
       "      <th></th>\n",
       "      <th></th>\n",
       "      <th></th>\n",
       "      <th></th>\n",
       "      <th></th>\n",
       "      <th></th>\n",
       "    </tr>\n",
       "  </thead>\n",
       "  <tbody>\n",
       "    <tr>\n",
       "      <th>0</th>\n",
       "      <td>0</td>\n",
       "      <td>0</td>\n",
       "      <td>0</td>\n",
       "      <td>0</td>\n",
       "      <td>0</td>\n",
       "      <td>0</td>\n",
       "      <td>5</td>\n",
       "      <td>13</td>\n",
       "      <td>1</td>\n",
       "      <td>0</td>\n",
       "      <td>0</td>\n",
       "      <td>0</td>\n",
       "    </tr>\n",
       "    <tr>\n",
       "      <th>1</th>\n",
       "      <td>0</td>\n",
       "      <td>0</td>\n",
       "      <td>0</td>\n",
       "      <td>0</td>\n",
       "      <td>0</td>\n",
       "      <td>0</td>\n",
       "      <td>0</td>\n",
       "      <td>0</td>\n",
       "      <td>0</td>\n",
       "      <td>5</td>\n",
       "      <td>14</td>\n",
       "      <td>1</td>\n",
       "    </tr>\n",
       "    <tr>\n",
       "      <th>2</th>\n",
       "      <td>0</td>\n",
       "      <td>0</td>\n",
       "      <td>0</td>\n",
       "      <td>5</td>\n",
       "      <td>13</td>\n",
       "      <td>1</td>\n",
       "      <td>0</td>\n",
       "      <td>0</td>\n",
       "      <td>0</td>\n",
       "      <td>0</td>\n",
       "      <td>0</td>\n",
       "      <td>0</td>\n",
       "    </tr>\n",
       "    <tr>\n",
       "      <th>3</th>\n",
       "      <td>5</td>\n",
       "      <td>14</td>\n",
       "      <td>2</td>\n",
       "      <td>0</td>\n",
       "      <td>0</td>\n",
       "      <td>0</td>\n",
       "      <td>0</td>\n",
       "      <td>0</td>\n",
       "      <td>0</td>\n",
       "      <td>0</td>\n",
       "      <td>0</td>\n",
       "      <td>0</td>\n",
       "    </tr>\n",
       "  </tbody>\n",
       "</table>\n",
       "</div>"
      ],
      "text/plain": [
       "rating   1            2            3            4         \n",
       "tag    FNB POI SHOP FNB POI SHOP FNB POI SHOP FNB POI SHOP\n",
       "DBSCAN                                                    \n",
       "0        0   0    0   0   0    0   5  13    1   0   0    0\n",
       "1        0   0    0   0   0    0   0   0    0   5  14    1\n",
       "2        0   0    0   5  13    1   0   0    0   0   0    0\n",
       "3        5  14    2   0   0    0   0   0    0   0   0    0"
      ]
     },
     "execution_count": 78,
     "metadata": {},
     "output_type": "execute_result"
    }
   ],
   "source": [
    "updated_all_venues['DBSCAN'] = DBSCAN_labels_nottagged\n",
    "\n",
    "# convert ratings to integer values\n",
    "updated_all_venues['rating'] = updated_all_venues['rating'].astype('int')\n",
    "\n",
    "table = pd.pivot_table(updated_all_venues, values='categories', index=['DBSCAN'], columns=['rating', 'tag'], aggfunc=len, fill_value=0)\n",
    "table"
   ]
  },
  {
   "cell_type": "markdown",
   "metadata": {},
   "source": [
    "## Map"
   ]
  },
  {
   "cell_type": "markdown",
   "metadata": {},
   "source": [
    "DBSCAN clusters are plotted in solid circles while neighborhoods are in black hollow circles. Click on the circles to see the description of the venues/neighborhoods."
   ]
  },
  {
   "cell_type": "code",
   "execution_count": 88,
   "metadata": {
    "scrolled": false
   },
   "outputs": [
    {
     "data": {
      "text/html": [
       "<div style=\"width:100%;\"><div style=\"position:relative;width:100%;height:0;padding-bottom:60%;\"><iframe src=\"about:blank\" style=\"position:absolute;width:100%;height:100%;left:0;top:0;border:none !important;\" data-html=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 onload=\"this.contentDocument.open();this.contentDocument.write(atob(this.getAttribute('data-html')));this.contentDocument.close();\" allowfullscreen webkitallowfullscreen mozallowfullscreen></iframe></div></div>"
      ],
      "text/plain": [
       "<folium.folium.Map at 0x122966e80>"
      ]
     },
     "execution_count": 88,
     "metadata": {},
     "output_type": "execute_result"
    }
   ],
   "source": [
    "map_clusters_DBSCAN = folium.Map(location=[latitude, longitude], zoom_start=13)\n",
    "\n",
    "# set color scheme for the clusters\n",
    "x = np.arange(DBSCAN_clusters_nottagged)\n",
    "ys = [i+x+(i*x)**2 for i in range(DBSCAN_clusters_nottagged)]\n",
    "colors_array = cm.rainbow(np.linspace(0, 1, len(ys)))\n",
    "rainbow = [colors.rgb2hex(i) for i in colors_array]\n",
    "\n",
    "# add markers to the map\n",
    "markers_colors = []\n",
    "for lat, lon, poi, cluster in zip(updated_all_venues['lat'], updated_all_venues['lng'], updated_all_venues['name'], updated_all_venues['DBSCAN']):\n",
    "    label = folium.Popup(str(poi) + ' Cluster ' + str(cluster), parse_html=True)\n",
    "    folium.CircleMarker(\n",
    "        [lat, lon],\n",
    "        radius=5,\n",
    "        popup=label,\n",
    "        color=rainbow[cluster-1],\n",
    "        fill=True,\n",
    "        fill_color=rainbow[cluster-1],\n",
    "        fill_opacity=0.7).add_to(map_clusters_DBSCAN)\n",
    "    \n",
    "# add neighborhoods to map\n",
    "for lat, lng, label in zip(manhattan_data['Latitude'], manhattan_data['Longitude'], manhattan_data['Neighborhood']):\n",
    "    label = folium.Popup(label, parse_html=True)\n",
    "    folium.CircleMarker(\n",
    "        [lat, lng],\n",
    "        radius=5,\n",
    "        popup=label,\n",
    "        color='black',\n",
    "        fill=False,\n",
    "        parse_html=False).add_to(map_clusters_DBSCAN)     \n",
    "       \n",
    "map_clusters_DBSCAN"
   ]
  },
  {
   "cell_type": "markdown",
   "metadata": {},
   "source": [
    "REMARK: Purple points are from Cluster 1. Visually, we can see that they are actually within close proximities. Moreover, it makes sense that popular eateries are close to popular places of interest since tourist traffic is higher in those places. Thus, the clustering is reasonable."
   ]
  },
  {
   "cell_type": "markdown",
   "metadata": {},
   "source": [
    "## Selecting neighborhoods"
   ]
  },
  {
   "cell_type": "markdown",
   "metadata": {},
   "source": [
    "NOTE: We set selected_DBSCAN_cluster = 1."
   ]
  },
  {
   "cell_type": "code",
   "execution_count": 82,
   "metadata": {},
   "outputs": [],
   "source": [
    "selected_DBSCAN_cluster = 1"
   ]
  },
  {
   "cell_type": "markdown",
   "metadata": {},
   "source": [
    "We use distance.geodesic(coords_1, coords_2).km to compute distance in km.  \n",
    "\n",
    "Example:  \n",
    "coords_1 = (52.2296756, 21.0122287)  \n",
    "coords_2 = (52.406374, 16.9251681)  \n",
    "distance.geodesic(coords_1, coords_2).km)"
   ]
  },
  {
   "cell_type": "code",
   "execution_count": 83,
   "metadata": {},
   "outputs": [],
   "source": [
    "distance_df = pd.DataFrame()\n",
    "distance_df['Neighborhood'] = manhattan_data['Neighborhood']\n",
    "distance_df = distance_df.assign(mean_distance=[np.nan] * distance_df.shape[0])"
   ]
  },
  {
   "cell_type": "markdown",
   "metadata": {},
   "source": [
    "We compute and average distance for each neighborhood to every coordinate in DBSCAN cluster 1. The lower the average distance, the closer the neighborhood is to the popular venues."
   ]
  },
  {
   "cell_type": "code",
   "execution_count": 84,
   "metadata": {
    "scrolled": false
   },
   "outputs": [],
   "source": [
    "for n_ind in manhattan_data.index: \n",
    "    n_str = manhattan_data['Neighborhood'][n_ind]\n",
    "    n_lat = manhattan_data['Latitude'][n_ind]\n",
    "    n_lng = manhattan_data['Longitude'][n_ind]\n",
    "    count = 0\n",
    "    total_dist = 0\n",
    "    for v_ind in updated_all_venues.index:\n",
    "        if updated_all_venues['DBSCAN'][v_ind] == selected_DBSCAN_cluster:\n",
    "            count += 1\n",
    "            v_lat = updated_all_venues['lat'][v_ind]\n",
    "            v_lng = updated_all_venues['lng'][v_ind]\n",
    "            coords_1 = (n_lat, n_lng)\n",
    "            coords_2 = (v_lat, v_lng)\n",
    "            total_dist += distance.geodesic(coords_1, coords_2).km\n",
    "\n",
    "    assert distance_df['Neighborhood'][n_ind] == n_str\n",
    "    if count > 0:\n",
    "        distance_df.at[n_ind, 'mean_distance'] = total_dist / count"
   ]
  },
  {
   "cell_type": "markdown",
   "metadata": {},
   "source": [
    "## Conclusion"
   ]
  },
  {
   "cell_type": "markdown",
   "metadata": {},
   "source": [
    "### Venues with highest rating and DBSCAN cluster 0 are:"
   ]
  },
  {
   "cell_type": "code",
   "execution_count": 85,
   "metadata": {},
   "outputs": [],
   "source": [
    "venue_short = updated_all_venues.copy()\n",
    "\n",
    "# Delete these row indexes from dataFrame\n",
    "indexNames = venue_short[venue_short['DBSCAN'] != 1 ].index\n",
    "venue_short.drop(indexNames , inplace=True)"
   ]
  },
  {
   "cell_type": "code",
   "execution_count": 86,
   "metadata": {},
   "outputs": [
    {
     "data": {
      "text/html": [
       "<div>\n",
       "<style scoped>\n",
       "    .dataframe tbody tr th:only-of-type {\n",
       "        vertical-align: middle;\n",
       "    }\n",
       "\n",
       "    .dataframe tbody tr th {\n",
       "        vertical-align: top;\n",
       "    }\n",
       "\n",
       "    .dataframe thead th {\n",
       "        text-align: right;\n",
       "    }\n",
       "</style>\n",
       "<table border=\"1\" class=\"dataframe\">\n",
       "  <thead>\n",
       "    <tr style=\"text-align: right;\">\n",
       "      <th></th>\n",
       "      <th>name</th>\n",
       "      <th>categories</th>\n",
       "    </tr>\n",
       "  </thead>\n",
       "  <tbody>\n",
       "    <tr>\n",
       "      <th>3</th>\n",
       "      <td>Central Park</td>\n",
       "      <td>Park</td>\n",
       "    </tr>\n",
       "    <tr>\n",
       "      <th>9</th>\n",
       "      <td>The Metropolitan Museum of Art (Metropolitan M...</td>\n",
       "      <td>Art Museum</td>\n",
       "    </tr>\n",
       "    <tr>\n",
       "      <th>18</th>\n",
       "      <td>Two Little Red Hens</td>\n",
       "      <td>Bakery</td>\n",
       "    </tr>\n",
       "    <tr>\n",
       "      <th>30</th>\n",
       "      <td>Levain Bakery</td>\n",
       "      <td>Bakery</td>\n",
       "    </tr>\n",
       "    <tr>\n",
       "      <th>33</th>\n",
       "      <td>Up Thai</td>\n",
       "      <td>Thai Restaurant</td>\n",
       "    </tr>\n",
       "    <tr>\n",
       "      <th>36</th>\n",
       "      <td>Lincoln Center for the Performing Arts</td>\n",
       "      <td>Performing Arts Venue</td>\n",
       "    </tr>\n",
       "    <tr>\n",
       "      <th>41</th>\n",
       "      <td>The Metropolitan Opera (Metropolitan Opera)</td>\n",
       "      <td>Opera House</td>\n",
       "    </tr>\n",
       "    <tr>\n",
       "      <th>51</th>\n",
       "      <td>Marea</td>\n",
       "      <td>Seafood Restaurant</td>\n",
       "    </tr>\n",
       "    <tr>\n",
       "      <th>54</th>\n",
       "      <td>Carnegie Hall</td>\n",
       "      <td>Concert Hall</td>\n",
       "    </tr>\n",
       "    <tr>\n",
       "      <th>63</th>\n",
       "      <td>Museum of Modern Art (MoMA)</td>\n",
       "      <td>Art Museum</td>\n",
       "    </tr>\n",
       "    <tr>\n",
       "      <th>69</th>\n",
       "      <td>St. Patrick's Cathedral</td>\n",
       "      <td>Church</td>\n",
       "    </tr>\n",
       "    <tr>\n",
       "      <th>70</th>\n",
       "      <td>Gershwin Theatre</td>\n",
       "      <td>Theater</td>\n",
       "    </tr>\n",
       "    <tr>\n",
       "      <th>71</th>\n",
       "      <td>Radio City Music Hall</td>\n",
       "      <td>Concert Hall</td>\n",
       "    </tr>\n",
       "    <tr>\n",
       "      <th>75</th>\n",
       "      <td>Top of the Rock Observation Deck</td>\n",
       "      <td>Scenic Lookout</td>\n",
       "    </tr>\n",
       "    <tr>\n",
       "      <th>76</th>\n",
       "      <td>Rockefeller Center</td>\n",
       "      <td>Plaza</td>\n",
       "    </tr>\n",
       "    <tr>\n",
       "      <th>80</th>\n",
       "      <td>Minskoff Theatre</td>\n",
       "      <td>Theater</td>\n",
       "    </tr>\n",
       "    <tr>\n",
       "      <th>83</th>\n",
       "      <td>Majestic Theatre</td>\n",
       "      <td>Theater</td>\n",
       "    </tr>\n",
       "    <tr>\n",
       "      <th>84</th>\n",
       "      <td>Los Tacos No. 1</td>\n",
       "      <td>Taco Place</td>\n",
       "    </tr>\n",
       "    <tr>\n",
       "      <th>93</th>\n",
       "      <td>Bryant Park</td>\n",
       "      <td>Park</td>\n",
       "    </tr>\n",
       "    <tr>\n",
       "      <th>98</th>\n",
       "      <td>Books Kinokuniya</td>\n",
       "      <td>Bookstore</td>\n",
       "    </tr>\n",
       "  </tbody>\n",
       "</table>\n",
       "</div>"
      ],
      "text/plain": [
       "                                                 name             categories\n",
       "3                                        Central Park                   Park\n",
       "9   The Metropolitan Museum of Art (Metropolitan M...             Art Museum\n",
       "18                                Two Little Red Hens                 Bakery\n",
       "30                                      Levain Bakery                 Bakery\n",
       "33                                            Up Thai        Thai Restaurant\n",
       "36             Lincoln Center for the Performing Arts  Performing Arts Venue\n",
       "41        The Metropolitan Opera (Metropolitan Opera)            Opera House\n",
       "51                                              Marea     Seafood Restaurant\n",
       "54                                      Carnegie Hall           Concert Hall\n",
       "63                        Museum of Modern Art (MoMA)             Art Museum\n",
       "69                            St. Patrick's Cathedral                 Church\n",
       "70                                   Gershwin Theatre                Theater\n",
       "71                              Radio City Music Hall           Concert Hall\n",
       "75                   Top of the Rock Observation Deck         Scenic Lookout\n",
       "76                                 Rockefeller Center                  Plaza\n",
       "80                                   Minskoff Theatre                Theater\n",
       "83                                   Majestic Theatre                Theater\n",
       "84                                    Los Tacos No. 1             Taco Place\n",
       "93                                        Bryant Park                   Park\n",
       "98                                   Books Kinokuniya              Bookstore"
      ]
     },
     "execution_count": 86,
     "metadata": {},
     "output_type": "execute_result"
    }
   ],
   "source": [
    "venue_short[['name', 'categories']]"
   ]
  },
  {
   "cell_type": "markdown",
   "metadata": {},
   "source": [
    "REMARK: This list of venue can be used for review / recommendation."
   ]
  },
  {
   "cell_type": "markdown",
   "metadata": {},
   "source": [
    "### The top 5 neighborhoods for accommodation arrangements are:"
   ]
  },
  {
   "cell_type": "code",
   "execution_count": 87,
   "metadata": {},
   "outputs": [
    {
     "data": {
      "text/html": [
       "<div>\n",
       "<style scoped>\n",
       "    .dataframe tbody tr th:only-of-type {\n",
       "        vertical-align: middle;\n",
       "    }\n",
       "\n",
       "    .dataframe tbody tr th {\n",
       "        vertical-align: top;\n",
       "    }\n",
       "\n",
       "    .dataframe thead th {\n",
       "        text-align: right;\n",
       "    }\n",
       "</style>\n",
       "<table border=\"1\" class=\"dataframe\">\n",
       "  <thead>\n",
       "    <tr style=\"text-align: right;\">\n",
       "      <th></th>\n",
       "      <th>Neighborhood</th>\n",
       "      <th>mean_distance</th>\n",
       "    </tr>\n",
       "  </thead>\n",
       "  <tbody>\n",
       "    <tr>\n",
       "      <th>15</th>\n",
       "      <td>Midtown</td>\n",
       "      <td>1.420808</td>\n",
       "    </tr>\n",
       "    <tr>\n",
       "      <th>13</th>\n",
       "      <td>Lincoln Square</td>\n",
       "      <td>1.579648</td>\n",
       "    </tr>\n",
       "    <tr>\n",
       "      <th>34</th>\n",
       "      <td>Sutton Place</td>\n",
       "      <td>1.803459</td>\n",
       "    </tr>\n",
       "    <tr>\n",
       "      <th>14</th>\n",
       "      <td>Clinton</td>\n",
       "      <td>1.891847</td>\n",
       "    </tr>\n",
       "    <tr>\n",
       "      <th>10</th>\n",
       "      <td>Lenox Hill</td>\n",
       "      <td>1.993410</td>\n",
       "    </tr>\n",
       "  </tbody>\n",
       "</table>\n",
       "</div>"
      ],
      "text/plain": [
       "      Neighborhood  mean_distance\n",
       "15         Midtown       1.420808\n",
       "13  Lincoln Square       1.579648\n",
       "34    Sutton Place       1.803459\n",
       "14         Clinton       1.891847\n",
       "10      Lenox Hill       1.993410"
      ]
     },
     "execution_count": 87,
     "metadata": {},
     "output_type": "execute_result"
    }
   ],
   "source": [
    "distance_df.sort_values(by='mean_distance').head(5)"
   ]
  },
  {
   "cell_type": "markdown",
   "metadata": {},
   "source": [
    "REMARK: The average distance of these neighborhoods to popular venues are all within 2km, which is a comfortable walking distance. These are good candidates for accommodation arrangements."
   ]
  },
  {
   "cell_type": "code",
   "execution_count": null,
   "metadata": {},
   "outputs": [],
   "source": []
  }
 ],
 "metadata": {
  "kernelspec": {
   "display_name": "Python 3",
   "language": "python",
   "name": "python3"
  },
  "language_info": {
   "codemirror_mode": {
    "name": "ipython",
    "version": 3
   },
   "file_extension": ".py",
   "mimetype": "text/x-python",
   "name": "python",
   "nbconvert_exporter": "python",
   "pygments_lexer": "ipython3",
   "version": "3.6.9"
  }
 },
 "nbformat": 4,
 "nbformat_minor": 4
}
