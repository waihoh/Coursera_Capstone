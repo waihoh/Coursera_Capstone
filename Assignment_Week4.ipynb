{
 "cells": [
  {
   "cell_type": "markdown",
   "metadata": {},
   "source": [
    "# Capstone Project - Assignment 4"
   ]
  },
  {
   "cell_type": "markdown",
   "metadata": {},
   "source": [
    "## Background"
   ]
  },
  {
   "cell_type": "markdown",
   "metadata": {},
   "source": [
    "Machine Learning Tour Group (MLTG) is creating a tour package to New York city, with a one-day free and easy stay in Manhattan. The company is identifying neighborhoods that are within walking distance to popular F&B venues, places of interest and shopping locations. Popularity of different locations is determined by the \"likes\" scores obtained from Foursquare database. Suitable accommodations can then be arranged in identified neighborhoods."
   ]
  },
  {
   "cell_type": "markdown",
   "metadata": {},
   "source": [
    "## Data required"
   ]
  },
  {
   "cell_type": "markdown",
   "metadata": {},
   "source": [
    "We will be using   \n",
    "A. Geospatial coordinates of neighborhoods are obtained from https://geo.nyu.edu/catalog/nyu_2451_34572.  \n",
    "B. Data of venues using Foursquare API. The data includes locations, categories and likes."
   ]
  },
  {
   "cell_type": "code",
   "execution_count": null,
   "metadata": {},
   "outputs": [],
   "source": []
  }
 ],
 "metadata": {
  "kernelspec": {
   "display_name": "Python 3",
   "language": "python",
   "name": "python3"
  },
  "language_info": {
   "codemirror_mode": {
    "name": "ipython",
    "version": 3
   },
   "file_extension": ".py",
   "mimetype": "text/x-python",
   "name": "python",
   "nbconvert_exporter": "python",
   "pygments_lexer": "ipython3",
   "version": "3.6.9"
  }
 },
 "nbformat": 4,
 "nbformat_minor": 4
}
